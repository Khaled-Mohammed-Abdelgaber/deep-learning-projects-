{
  "nbformat": 4,
  "nbformat_minor": 0,
  "metadata": {
    "colab": {
      "provenance": [],
      "authorship_tag": "ABX9TyPHBpui3dXrwyWCBA9bexJ7",
      "include_colab_link": true
    },
    "kernelspec": {
      "name": "python3",
      "display_name": "Python 3"
    },
    "language_info": {
      "name": "python"
    }
  },
  "cells": [
    {
      "cell_type": "markdown",
      "metadata": {
        "id": "view-in-github",
        "colab_type": "text"
      },
      "source": [
        "<a href=\"https://colab.research.google.com/github/Khaled-Mohammed-Abdelgaber/deep-learning-projects-/blob/main/houses_prices_prediction.ipynb\" target=\"_parent\"><img src=\"https://colab.research.google.com/assets/colab-badge.svg\" alt=\"Open In Colab\"/></a>"
      ]
    },
    {
      "cell_type": "code",
      "execution_count": 1,
      "metadata": {
        "id": "D3vvIuSiXVQ2"
      },
      "outputs": [],
      "source": [
        "from keras.datasets import boston_housing\n",
        "(train_data,train_target),(test_data,test_target) = boston_housing.load_data()"
      ]
    },
    {
      "cell_type": "code",
      "source": [
        "train_data.shape , test_data.shape"
      ],
      "metadata": {
        "colab": {
          "base_uri": "https://localhost:8080/"
        },
        "id": "pv2bV_pFXyDV",
        "outputId": "897def9f-862b-4346-8614-b44ffb283f05"
      },
      "execution_count": 2,
      "outputs": [
        {
          "output_type": "execute_result",
          "data": {
            "text/plain": [
              "((404, 13), (102, 13))"
            ]
          },
          "metadata": {},
          "execution_count": 2
        }
      ]
    },
    {
      "cell_type": "code",
      "source": [
        "mean = train_data.mean()\n",
        "train_data -= mean\n",
        "std = train_data.std()\n",
        "train_data /= std\n",
        "\n",
        "\"\"\"Note that the quantities used for normalizing the test data are computed using the\n",
        "training data. You should never use in your workflow any quantity computed on the\n",
        "test data, even for something as simple as data normalization.\"\"\"\n",
        "\n",
        "test_data -= mean\n",
        "test_data /= std"
      ],
      "metadata": {
        "id": "gEOfrl6nX9kI"
      },
      "execution_count": 3,
      "outputs": []
    },
    {
      "cell_type": "code",
      "source": [
        "from keras import models\n",
        "from keras.layers import Dense\n",
        "def build_model():\n",
        "  model = models.Sequential()\n",
        "  model.add(Dense(64 , activation=\"relu\",input_shape = (train_data.shape[1],)))\n",
        "  model.add(Dense(64 , activation = 'relu'))\n",
        "  model.add(Dense(1)) #network ends with a single unit and no activation (it will be a linear layer\n",
        "  model.compile(optimizer = 'rmsprop',loss = 'mse',metrics = ['mae'])  #for regression problem can not use accuracy or recall or precision\n",
        "  return model"
      ],
      "metadata": {
        "id": "89_2LZc8X_K3"
      },
      "execution_count": 4,
      "outputs": []
    },
    {
      "cell_type": "code",
      "source": [
        "import numpy as np\n",
        "k = 4 \n",
        "val_samples = len(train_data) //k\n",
        "num_epochs = 100\n",
        "all_scores = []\n",
        "for i in range(k):\n",
        "  val_data = train_data[i*val_samples : (i+1)*val_samples]\n",
        "  val_target = train_target[i*val_samples : (i+1)*val_samples]\n",
        "  train_part = np.concatenate((train_data[:i*val_samples],train_data[(i+1)*val_samples:]))\n",
        "  target_part = np.concatenate((train_target[:i*val_samples],train_target[(i+1)*val_samples:]),axis = 0)\n",
        "  model = build_model()\n",
        "  history = model.fit(train_part ,target_part,epochs = num_epochs , batch_size = 1,verbose =0 )\n",
        "  val_mse ,val_mae = model.evaluate(val_data,val_target )\n",
        "  all_scores.append(val_mae)"
      ],
      "metadata": {
        "id": "fU3pba3TX_Nt",
        "colab": {
          "base_uri": "https://localhost:8080/"
        },
        "outputId": "72acaa7a-6ebf-48a4-8cdc-f41a9faf5b8c"
      },
      "execution_count": 9,
      "outputs": [
        {
          "output_type": "stream",
          "name": "stdout",
          "text": [
            "4/4 [==============================] - 0s 3ms/step - loss: 32.5238 - mae: 4.1957\n",
            "4/4 [==============================] - 0s 3ms/step - loss: 28.3709 - mae: 4.1017\n",
            "4/4 [==============================] - 0s 4ms/step - loss: 28.1709 - mae: 3.5551\n",
            "4/4 [==============================] - 0s 4ms/step - loss: 48.9897 - mae: 4.6610\n"
          ]
        }
      ]
    },
    {
      "cell_type": "code",
      "source": [
        "all_scores"
      ],
      "metadata": {
        "id": "FZy670LFX_Qm",
        "colab": {
          "base_uri": "https://localhost:8080/"
        },
        "outputId": "640e008b-b224-4cfc-8bec-149ca5bd4238"
      },
      "execution_count": 10,
      "outputs": [
        {
          "output_type": "execute_result",
          "data": {
            "text/plain": [
              "[4.195662498474121, 4.101700782775879, 3.5551486015319824, 4.661049842834473]"
            ]
          },
          "metadata": {},
          "execution_count": 10
        }
      ]
    },
    {
      "cell_type": "code",
      "source": [
        "np.mean(all_scores)"
      ],
      "metadata": {
        "colab": {
          "base_uri": "https://localhost:8080/"
        },
        "id": "XXP7Ct0qh78T",
        "outputId": "1aa84e99-5f75-485e-96b5-ccd26178133b"
      },
      "execution_count": 11,
      "outputs": [
        {
          "output_type": "execute_result",
          "data": {
            "text/plain": [
              "4.128390431404114"
            ]
          },
          "metadata": {},
          "execution_count": 11
        }
      ]
    },
    {
      "cell_type": "code",
      "source": [
        "history.history.keys()"
      ],
      "metadata": {
        "colab": {
          "base_uri": "https://localhost:8080/"
        },
        "id": "K4zybN7owqu1",
        "outputId": "1c90efc2-bcca-460e-a670-46b10ce95129"
      },
      "execution_count": 12,
      "outputs": [
        {
          "output_type": "execute_result",
          "data": {
            "text/plain": [
              "dict_keys(['loss', 'mae'])"
            ]
          },
          "metadata": {},
          "execution_count": 12
        }
      ]
    },
    {
      "cell_type": "code",
      "source": [
        "num_epochs = 500\n",
        "all_mae_histories = []\n",
        "for i in range(k):\n",
        "  print('processing fold #', i)\n",
        "  val_data = train_data[i * val_samples: (i + 1) * val_samples]\n",
        "  val_targets = train_target[i * val_samples: (i + 1) * val_samples]\n",
        "  partial_train_data = np.concatenate( [train_data[:i * val_samples], train_data[(i + 1) * val_samples:]], axis=0)\n",
        "  partial_train_targets = np.concatenate( [train_target[:i * val_samples], train_target[(i + 1) * val_samples:]], axis=0)\n",
        "  model = build_model()\n",
        "  history = model.fit(partial_train_data, partial_train_targets, validation_data=(val_data, val_targets), epochs=num_epochs, batch_size=1, verbose=0)\n",
        "  mae_history = history.history['mae']\n",
        "  all_mae_histories.append(mae_history)\n",
        "average_mae_history = [np.mean([x[i] for x in all_mae_histories]) for i in range(num_epochs)]"
      ],
      "metadata": {
        "colab": {
          "base_uri": "https://localhost:8080/"
        },
        "id": "cTMEszR8iBA8",
        "outputId": "16fe2028-7f02-4115-9131-d39e0e1f2e29"
      },
      "execution_count": 13,
      "outputs": [
        {
          "output_type": "stream",
          "name": "stdout",
          "text": [
            "processing fold # 0\n",
            "processing fold # 1\n",
            "processing fold # 2\n",
            "processing fold # 3\n"
          ]
        }
      ]
    },
    {
      "cell_type": "code",
      "source": [
        "import matplotlib.pyplot as plt\n",
        "plt.plot(range(1, len(average_mae_history) + 1), average_mae_history)\n",
        "plt.xlabel('Epochs')\n",
        "plt.ylabel('Validation MAE')\n",
        "plt.show()"
      ],
      "metadata": {
        "colab": {
          "base_uri": "https://localhost:8080/",
          "height": 279
        },
        "id": "4DDRF4GuudhV",
        "outputId": "12e4f4ca-5efb-4ef3-e6b7-a767af9f258d"
      },
      "execution_count": 14,
      "outputs": [
        {
          "output_type": "display_data",
          "data": {
            "text/plain": [
              "<Figure size 432x288 with 1 Axes>"
            ],
            "image/png": "[encoded data removed]"
          },
          "metadata": {
            "needs_background": "light"
          }
        }
      ]
    },
    {
      "cell_type": "code",
      "source": [
        "def smooth_curve(points, factor=0.9):\n",
        "  smoothed_points = []\n",
        "  for point in points:\n",
        "    if smoothed_points:\n",
        "      previous = smoothed_points[-1]\n",
        "      smoothed_points.append(previous * factor + point * (1 - factor))\n",
        "    else:\n",
        "      smoothed_points.append(point)\n",
        "  return smoothed_points\n",
        "smooth_mae_history = smooth_curve(average_mae_history[10:])\n",
        "plt.plot(range(1, len(smooth_mae_history) + 1), smooth_mae_history)\n",
        "plt.xlabel('Epochs')\n",
        "plt.ylabel('Validation MAE')\n",
        "plt.show()"
      ],
      "metadata": {
        "colab": {
          "base_uri": "https://localhost:8080/",
          "height": 279
        },
        "id": "mobaYnd0vIAf",
        "outputId": "b482fb4f-6385-4022-9664-a8585e616bf1"
      },
      "execution_count": 15,
      "outputs": [
        {
          "output_type": "display_data",
          "data": {
            "text/plain": [
              "<Figure size 432x288 with 1 Axes>"
            ],
            "image/png": "[encoded data removed]"
          },
          "metadata": {
            "needs_background": "light"
          }
        }
      ]
    },
    {
      "cell_type": "code",
      "source": [
        "model = build_model()\n",
        "model.fit(train_data, train_target, epochs=400, batch_size=16, verbose=1)\n",
        "test_mse_score, test_mae_score = model.evaluate(test_data, test_target)"
      ],
      "metadata": {
        "id": "tWhXg1nzviHH"
      },
      "execution_count": null,
      "outputs": []
    },
    {
      "cell_type": "code",
      "source": [
        "test_mse_score, test_mae_score"
      ],
      "metadata": {
        "colab": {
          "base_uri": "https://localhost:8080/"
        },
        "id": "AAtPW3tnviLh",
        "outputId": "e4353676-bb69-4cdf-c2ed-fcb61c576453"
      },
      "execution_count": 24,
      "outputs": [
        {
          "output_type": "execute_result",
          "data": {
            "text/plain": [
              "(30.939697265625, 3.698493719100952)"
            ]
          },
          "metadata": {},
          "execution_count": 24
        }
      ]
    },
    {
      "cell_type": "code",
      "source": [],
      "metadata": {
        "id": "BVclVtnx3m7z"
      },
      "execution_count": null,
      "outputs": []
    },
    {
      "cell_type": "code",
      "source": [],
      "metadata": {
        "id": "mQj2fmq93nWM"
      },
      "execution_count": null,
      "outputs": []
    }
  ]
}