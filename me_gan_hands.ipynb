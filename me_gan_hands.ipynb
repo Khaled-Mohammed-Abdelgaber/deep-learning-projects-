{
  "nbformat": 4,
  "nbformat_minor": 0,
  "metadata": {
    "kernelspec": {
      "display_name": "Python 3",
      "language": "python",
      "name": "python3"
    },
    "language_info": {
      "codemirror_mode": {
        "name": "ipython",
        "version": 3
      },
      "file_extension": ".py",
      "mimetype": "text/x-python",
      "name": "python",
      "nbconvert_exporter": "python",
      "pygments_lexer": "ipython3",
      "version": "3.7.4"
    },
    "colab": {
      "provenance": [],
      "include_colab_link": true
    },
    "accelerator": "GPU",
    "gpuClass": "standard"
  },
  "cells": [
    {
      "cell_type": "markdown",
      "metadata": {
        "id": "view-in-github",
        "colab_type": "text"
      },
      "source": [
        "<a href=\"https://colab.research.google.com/github/Khaled-Mohammed-Abdelgaber/deep-learning-projects-/blob/main/me_gan_hands.ipynb\" target=\"_parent\"><img src=\"https://colab.research.google.com/assets/colab-badge.svg\" alt=\"Open In Colab\"/></a>"
      ]
    },
    {
      "cell_type": "markdown",
      "metadata": {
        "id": "ROm8kovwJIxD"
      },
      "source": [
        "# Week 4 Assignment: GANs with Hands\n",
        "\n",
        "\n",
        "For the last programming assignment of this course, you will build a Generative Adversarial Network (GAN) that generates pictures of hands. These will be trained on a dataset of hand images doing sign language.\n",
        "\n",
        "The model you will build will be very similar to the DCGAN model that you saw in the second ungraded lab of this week. Feel free to review it in case you get stuck with any of the required steps."
      ]
    },
    {
      "cell_type": "markdown",
      "metadata": {
        "id": "m6Oumw5-Jx1w"
      },
      "source": [
        "***Important:*** *This colab notebook has read-only access so you won't be able to save your changes. If you want to save your work periodically, please click `File -> Save a Copy in Drive` to create a copy in your account, then work from there.*  "
      ]
    },
    {
      "cell_type": "markdown",
      "metadata": {
        "id": "K0OwpFl8JIxP"
      },
      "source": [
        "## Imports"
      ]
    },
    {
      "cell_type": "code",
      "metadata": {
        "id": "k3nvoSP3Btzu"
      },
      "source": [
        "import tensorflow as tf\n",
        "import tensorflow.keras as keras\n",
        "\n",
        "import matplotlib.pyplot as plt\n",
        "import numpy as np\n",
        "\n",
        "import urllib.request\n",
        "import zipfile\n",
        "from IPython import display"
      ],
      "execution_count": 1,
      "outputs": []
    },
    {
      "cell_type": "markdown",
      "metadata": {
        "id": "Yxy_M7xbQef-"
      },
      "source": [
        "## Utilities"
      ]
    },
    {
      "cell_type": "code",
      "metadata": {
        "id": "cg_4z8-glz6P"
      },
      "source": [
        "def plot_results(images, n_cols=None):\n",
        "    '''visualizes fake images'''\n",
        "    display.clear_output(wait=False)  \n",
        "    \n",
        "    n_cols = n_cols or len(images)\n",
        "    n_rows = (len(images) - 1) // n_cols + 1\n",
        "    \n",
        "    if images.shape[-1] == 1:\n",
        "        images = np.squeeze(images, axis=-1)\n",
        "    \n",
        "    plt.figure(figsize=(n_cols, n_rows))\n",
        "    \n",
        "    for index, image in enumerate(images):\n",
        "        plt.subplot(n_rows, n_cols, index + 1)\n",
        "        plt.imshow(image, cmap=\"binary\")\n",
        "        plt.axis(\"off\")"
      ],
      "execution_count": 2,
      "outputs": []
    },
    {
      "cell_type": "markdown",
      "metadata": {
        "id": "2iI8bUNSJIxR"
      },
      "source": [
        "## Get the training data\n",
        "\n",
        "You will download the dataset and extract it to a directory in your workspace. As mentioned, these are images of human hands performing sign language."
      ]
    },
    {
      "cell_type": "code",
      "metadata": {
        "id": "uIx-60V_BEyo"
      },
      "source": [
        "# download the dataset\n",
        "training_url = \"https://storage.googleapis.com/tensorflow-1-public/tensorflow-3-temp/signs-training.zip\"\n",
        "training_file_name = \"signs-training.zip\"\n",
        "urllib.request.urlretrieve(training_url, training_file_name)\n",
        "\n",
        "# extract to local directory\n",
        "training_dir = \"/tmp\"\n",
        "zip_ref = zipfile.ZipFile(training_file_name, 'r')\n",
        "zip_ref.extractall(training_dir)\n",
        "zip_ref.close()"
      ],
      "execution_count": 3,
      "outputs": []
    },
    {
      "cell_type": "markdown",
      "metadata": {
        "id": "5iPZmV9RJIxR"
      },
      "source": [
        "## Preprocess the images\n",
        "\n",
        "Next, you will prepare the dataset to a format suitable for the model. You will read the files, convert it to a tensor of floats, then normalize the pixel values."
      ]
    },
    {
      "cell_type": "code",
      "metadata": {
        "id": "4rf-e4f-d3H7"
      },
      "source": [
        "BATCH_SIZE = 32\n",
        "\n",
        "# mapping function for preprocessing the image files\n",
        "def map_images(file):\n",
        "  '''converts the images to floats and normalizes the pixel values'''\n",
        "  img = tf.io.decode_png(tf.io.read_file(file))\n",
        "  img = tf.dtypes.cast(img, tf.float32)\n",
        "  img = img / 255.0\n",
        "  \n",
        "  return img\n",
        "\n",
        "# create training batches\n",
        "filename_dataset = tf.data.Dataset.list_files(\"/tmp/signs-training/*.png\")\n",
        "image_dataset = filename_dataset.map(map_images).batch(BATCH_SIZE)"
      ],
      "execution_count": 4,
      "outputs": []
    },
    {
      "cell_type": "code",
      "source": [
        "image_dataset.as_numpy_iterator().next().shape\n"
      ],
      "metadata": {
        "id": "lqCkaV0qeoh4",
        "colab": {
          "base_uri": "https://localhost:8080/"
        },
        "outputId": "fab70fdc-3365-4a46-a130-986a6b9df27b"
      },
      "execution_count": 5,
      "outputs": [
        {
          "output_type": "execute_result",
          "data": {
            "text/plain": [
              "(32, 28, 28, 1)"
            ]
          },
          "metadata": {},
          "execution_count": 5
        }
      ]
    },
    {
      "cell_type": "markdown",
      "metadata": {
        "id": "lz9NfgdTJIxS"
      },
      "source": [
        "## Build the generator\n",
        "\n",
        "You are free to experiment but here is the recommended architecture:\n",
        "- *Dense*: number of units should equal `7 * 7 * 128`, input_shape takes in a list containing the random normal dimensions.\n",
        "    - `random_normal_dimensions` is a hyperparameter that defines how many random numbers in a vector you'll want to feed into the generator as a starting point for generating images.\n",
        "- *Reshape*: reshape the vector to a 7 x 7 x 128 tensor.\n",
        "- *BatchNormalization*\n",
        "- *Conv2DTranspose*: takes `64` units, kernel size is `5`, strides is `2`, padding is `SAME`, activation is `selu`.\n",
        "- *BatchNormalization*\n",
        "- *Conv2DTranspose*: `1` unit, kernel size is `5`, strides is `2`, padding is `SAME`, and activation is `tanh`."
      ]
    },
    {
      "cell_type": "code",
      "source": [
        "from tensorflow.keras.layers import *"
      ],
      "metadata": {
        "id": "rAZv3_UHFGc3"
      },
      "execution_count": 6,
      "outputs": []
    },
    {
      "cell_type": "code",
      "metadata": {
        "id": "uagZDaF0CZON"
      },
      "source": [
        "# You'll pass the random_normal_dimensions to the first dense layer of the generator\n",
        "random_normal_dimensions = 32\n",
        "\n",
        "### START CODE HERE ###\n",
        "generator = keras.models.Sequential([\n",
        "    tf.keras.layers.Dense(7*7*128, input_shape = [random_normal_dimensions]),\n",
        "    tf.keras.layers.Reshape([7,7,128]),\n",
        "    tf.keras.layers.BatchNormalization(),\n",
        "    tf.keras.layers.Conv2DTranspose(64,kernel_size = (5,5) ,activation = 'selu',strides = (2,2) , padding = 'SAME'),\n",
        "    tf.keras.layers.BatchNormalization(),\n",
        "    \n",
        "    tf.keras.layers.Conv2DTranspose(1,kernel_size = (5,5) ,activation = 'tanh' ,strides = (2,2), padding = 'SAME'),\n",
        "    \n",
        "])\n",
        "### END CODE HERE ###"
      ],
      "execution_count": 7,
      "outputs": []
    },
    {
      "cell_type": "code",
      "source": [
        "generator.summary()"
      ],
      "metadata": {
        "id": "ro2TdPDJbbGd",
        "colab": {
          "base_uri": "https://localhost:8080/"
        },
        "outputId": "2de3a5d5-78c2-4b89-fad9-56a1d0b48650"
      },
      "execution_count": 8,
      "outputs": [
        {
          "output_type": "stream",
          "name": "stdout",
          "text": [
            "Model: \"sequential\"\n",
            "_________________________________________________________________\n",
            " Layer (type)                Output Shape              Param #   \n",
            "=================================================================\n",
            " dense (Dense)               (None, 6272)              206976    \n",
            "                                                                 \n",
            " reshape (Reshape)           (None, 7, 7, 128)         0         \n",
            "                                                                 \n",
            " batch_normalization (BatchN  (None, 7, 7, 128)        512       \n",
            " ormalization)                                                   \n",
            "                                                                 \n",
            " conv2d_transpose (Conv2DTra  (None, 14, 14, 64)       204864    \n",
            " nspose)                                                         \n",
            "                                                                 \n",
            " batch_normalization_1 (Batc  (None, 14, 14, 64)       256       \n",
            " hNormalization)                                                 \n",
            "                                                                 \n",
            " conv2d_transpose_1 (Conv2DT  (None, 28, 28, 1)        1601      \n",
            " ranspose)                                                       \n",
            "                                                                 \n",
            "=================================================================\n",
            "Total params: 414,209\n",
            "Trainable params: 413,825\n",
            "Non-trainable params: 384\n",
            "_________________________________________________________________\n"
          ]
        }
      ]
    },
    {
      "cell_type": "markdown",
      "metadata": {
        "id": "8_lAy0bjJIxS"
      },
      "source": [
        "## Build the discriminator\n",
        "\n",
        "Here is the recommended architecture for the discriminator:\n",
        "- *Conv2D*: 64 units, kernel size of 5, strides of 2, padding is SAME, activation is a leaky relu with alpha of 0.2, input shape is 28 x 28 x 1\n",
        "- *Dropout*: rate is 0.4 (fraction of input units to drop)\n",
        "- *Conv2D*: 128 units, kernel size of 5, strides of 2, padding is SAME, activation is LeakyRelu with alpha of 0.2\n",
        "- *Dropout*: rate is 0.4.\n",
        "- *Flatten*\n",
        "- *Dense*: with 1 unit and a sigmoid activation"
      ]
    },
    {
      "cell_type": "code",
      "metadata": {
        "id": "siCh-qRtJIxT",
        "lines_to_next_cell": 2,
        "colab": {
          "base_uri": "https://localhost:8080/"
        },
        "outputId": "0ef13ebe-38ae-437b-9c54-66c273fe9004"
      },
      "source": [
        "### START CODE HERE ###\n",
        "discriminator = keras.models.Sequential([\n",
        "    keras.layers.Conv2D(64, kernel_size=(5,5), strides=(2,2), padding=\"SAME\",\n",
        "                        activation=keras.layers.LeakyReLU(0.2),\n",
        "                        input_shape=[28, 28, 1]),\n",
        "    keras.layers.Dropout(0.4),\n",
        "    keras.layers.Conv2D(128, kernel_size=(5,5), strides=(2,2), padding=\"SAME\",\n",
        "                        activation=keras.layers.LeakyReLU(0.2)),\n",
        "    keras.layers.Dropout(0.4),\n",
        "    keras.layers.Flatten(),\n",
        "    keras.layers.Dense(1, activation=\"sigmoid\")\n",
        "])\n",
        "\n",
        "discriminator.summary()\n",
        "### END CODE HERE ###"
      ],
      "execution_count": 9,
      "outputs": [
        {
          "output_type": "stream",
          "name": "stdout",
          "text": [
            "Model: \"sequential_1\"\n",
            "_________________________________________________________________\n",
            " Layer (type)                Output Shape              Param #   \n",
            "=================================================================\n",
            " conv2d (Conv2D)             (None, 14, 14, 64)        1664      \n",
            "                                                                 \n",
            " dropout (Dropout)           (None, 14, 14, 64)        0         \n",
            "                                                                 \n",
            " conv2d_1 (Conv2D)           (None, 7, 7, 128)         204928    \n",
            "                                                                 \n",
            " dropout_1 (Dropout)         (None, 7, 7, 128)         0         \n",
            "                                                                 \n",
            " flatten (Flatten)           (None, 6272)              0         \n",
            "                                                                 \n",
            " dense_1 (Dense)             (None, 1)                 6273      \n",
            "                                                                 \n",
            "=================================================================\n",
            "Total params: 212,865\n",
            "Trainable params: 212,865\n",
            "Non-trainable params: 0\n",
            "_________________________________________________________________\n"
          ]
        }
      ]
    },
    {
      "cell_type": "markdown",
      "metadata": {
        "id": "EKlTL1lhJIxT"
      },
      "source": [
        "## Compile the discriminator\n",
        "\n",
        "- Compile the discriminator with a binary_crossentropy loss and rmsprop optimizer.\n",
        "- Set the discriminator to not train on its weights (set its \"trainable\" field)."
      ]
    },
    {
      "cell_type": "code",
      "metadata": {
        "id": "xh4EaHDlJIxT"
      },
      "source": [
        "### START CODE HERE ###\n",
        "discriminator.compile(optimizer = 'rmsprop', loss = 'binary_crossentropy')\n",
        "discriminator.trainable = False\n",
        "### END CODE HERE ###"
      ],
      "execution_count": 10,
      "outputs": []
    },
    {
      "cell_type": "markdown",
      "metadata": {
        "id": "3X25T2kUJIxT"
      },
      "source": [
        "## Build and compile the GAN model\n",
        "\n",
        "- Build the sequential model for the GAN, passing a list containing the generator and discriminator.\n",
        "- Compile the model with a binary cross entropy loss and rmsprop optimizer."
      ]
    },
    {
      "cell_type": "code",
      "metadata": {
        "id": "SBclsOMsJIxU"
      },
      "source": [
        "### START CODE HERE ###\n",
        "gan = keras.models.Sequential([generator, discriminator])\n",
        "gan.compile(loss ='binary_crossentropy',optimizer =  'rmsprop', )\n",
        "### END CODE HERE ###"
      ],
      "execution_count": 11,
      "outputs": []
    },
    {
      "cell_type": "code",
      "source": [
        "gan.summary()"
      ],
      "metadata": {
        "id": "mnkGtBCpHTqn",
        "colab": {
          "base_uri": "https://localhost:8080/"
        },
        "outputId": "d05ebf45-21b4-44a4-cb28-7f73d8f0d345"
      },
      "execution_count": 12,
      "outputs": [
        {
          "output_type": "stream",
          "name": "stdout",
          "text": [
            "Model: \"sequential_2\"\n",
            "_________________________________________________________________\n",
            " Layer (type)                Output Shape              Param #   \n",
            "=================================================================\n",
            " sequential (Sequential)     (None, 28, 28, 1)         414209    \n",
            "                                                                 \n",
            " sequential_1 (Sequential)   (None, 1)                 212865    \n",
            "                                                                 \n",
            "=================================================================\n",
            "Total params: 627,074\n",
            "Trainable params: 413,825\n",
            "Non-trainable params: 213,249\n",
            "_________________________________________________________________\n"
          ]
        }
      ]
    },
    {
      "cell_type": "markdown",
      "metadata": {
        "id": "zX2CB0srJIxU"
      },
      "source": [
        "## Train the GAN\n",
        "\n",
        "Phase 1\n",
        "- real_batch_size: Get the batch size of the input batch (it's the zero-th dimension of the tensor)\n",
        "- noise: Generate the noise using `tf.random.normal`.  The shape is batch size x random_normal_dimension\n",
        "- fake images: Use the generator that you just created. Pass in the noise and produce fake images.\n",
        "- mixed_images: concatenate the fake images with the real images.\n",
        "  - Set the axis to 0.\n",
        "- discriminator_labels: Set to `0.` for fake images and `1.` for real images.\n",
        "- Set the discriminator as trainable.\n",
        "- Use the discriminator's `train_on_batch()` method to train on the mixed images and the discriminator labels.\n",
        "\n",
        "\n",
        "Phase 2\n",
        "- noise: generate random normal values with dimensions batch_size x random_normal_dimensions\n",
        "  - Use `real_batch_size`.\n",
        "- Generator_labels: Set to `1.` to mark the fake images as real\n",
        "  - The generator will generate fake images that are labeled as real images and attempt to fool the discriminator.\n",
        "- Set the discriminator to NOT be trainable.\n",
        "- Train the GAN on the noise and the generator labels."
      ]
    },
    {
      "cell_type": "code",
      "metadata": {
        "id": "AuV97d_kCpb_"
      },
      "source": [
        "\n",
        "def train_gan(gan, dataset, random_normal_dimensions, n_epochs=50):\n",
        "    \"\"\" Defines the two-phase training loop of the GAN\n",
        "    Args:\n",
        "      gan -- the GAN model which has the generator and discriminator\n",
        "      dataset -- the training set of real images\n",
        "      random_normal_dimensions -- dimensionality of the input to the generator\n",
        "      n_epochs -- number of epochs\n",
        "    \"\"\"\n",
        "\n",
        "    # get the two sub networks from the GAN model\n",
        "    generator, discriminator = gan.layers\n",
        "    hist = 1\n",
        "    for epoch in range(n_epochs):\n",
        "        print(\"Epoch {}/{}\".format(epoch + 1, n_epochs))   \n",
        "        print(hist)    \n",
        "        for real_images in dataset:\n",
        "            \n",
        "    ### START CODE HERE ###\n",
        "            # infer batch size from the current batch of real images\n",
        "            real_batch_size = real_images.shape[0]\n",
        "            \n",
        "            # Train the discriminator - PHASE 1\n",
        "            # Create the noise\n",
        "            noise = tf.random.normal(shape =[real_batch_size ,random_normal_dimensions])\n",
        "            \n",
        "            # Use the noise to generate fake images\n",
        "            fake_images = generator(noise)\n",
        "            \n",
        "            # Create a list by concatenating the fake images with the real ones\n",
        "            mixed_images = tf.concat([fake_images,real_images],axis = 0)\n",
        "            \n",
        "            # Create the labels for the discriminator\n",
        "            # 0 for the fake images\n",
        "            # 1 for the real images\n",
        "            \n",
        "            discriminator_labels = tf.constant([[0.]] * real_batch_size + [[1.]] * real_batch_size)\n",
        "            \n",
        "            # Ensure that the discriminator is trainable\n",
        "            discriminator.trainable = True\n",
        "            \n",
        "            # Use train_on_batch to train the discriminator with the mixed images and the discriminator labels\n",
        "            hist = discriminator.train_on_batch(mixed_images, discriminator_labels)\n",
        "            \n",
        "            # Train the generator - PHASE 2\n",
        "            # create a batch of noise input to feed to the GAN\n",
        "            noise = tf.random.normal(shape = [real_batch_size ,random_normal_dimensions])\n",
        "            \n",
        "            # label all generated images to be \"real\"\n",
        "            generator_labels = tf.constant([[1.]] * real_batch_size )\n",
        "            \n",
        "            # Freeze the discriminator\n",
        "            discriminator.trainable = False\n",
        "\n",
        "            # Train the GAN on the noise with the labels all set to be true\n",
        "            gan.train_on_batch(noise, generator_labels)\n",
        "        \n",
        "### END CODE HERE ###\n",
        "        plot_results(fake_images, 16)                     \n",
        "        plt.show()\n",
        "    return fake_images"
      ],
      "execution_count": 13,
      "outputs": []
    },
    {
      "cell_type": "markdown",
      "metadata": {
        "id": "OzbX3hwKJIxW"
      },
      "source": [
        "### Run the training\n",
        "\n",
        "For each epoch, a set of 31 images will be displayed onscreen. The longer you train, the better your output fake images will be. You will pick your best images to submit to the grader."
      ]
    },
    {
      "cell_type": "code",
      "metadata": {
        "id": "wYx9rzdACt0A",
        "colab": {
          "base_uri": "https://localhost:8080/",
          "height": 137
        },
        "outputId": "125aac8d-5a4a-49dc-87f0-52276c5fc1d7"
      },
      "source": [
        "\n",
        "# you can adjust the number of epochs\n",
        "EPOCHS = 60\n",
        "\n",
        "# run the training loop and collect images\n",
        "\n",
        "fake_images = train_gan( gan , image_dataset , random_normal_dimensions , n_epochs = EPOCHS )\n"
      ],
      "execution_count": 14,
      "outputs": [
        {
          "output_type": "display_data",
          "data": {
            "text/plain": [
              "<Figure size 1152x144 with 31 Axes>"
            ],
            "image/png": "[encoded data removed]"
          },
          "metadata": {
            "needs_background": "light"
          }
        }
      ]
    },
    {
      "cell_type": "markdown",
      "metadata": {
        "id": "uIAih3a1JIxX"
      },
      "source": [
        "## Choose your best images to submit for grading!\n",
        "\n",
        "Please visually inspect your 31 generated hand images.  They are indexed from 0 to 30, from left to right on the first row on top, and then continuing from left to right on the second row below it.\n",
        "\n",
        "- Choose 16 images that you think look most like actual hands.\n",
        "- Use the `append_to_grading_images()` function, pass in `fake_images` and a list of the indices for the 16 images that you choose to submit for grading (e.g. `append_to_grading_images(fake_images, [1, 4, 5, 6, 8... until you have 16 elements])`)."
      ]
    },
    {
      "cell_type": "code",
      "metadata": {
        "id": "4Qcxe1RK-piF"
      },
      "source": [
        "# helper function to collect the images\n",
        "def append_to_grading_images(images, indexes):\n",
        "  l = []\n",
        "  for index in indexes:\n",
        "    if len(l) >= 16:\n",
        "      print(\"The list is full\")\n",
        "      break\n",
        "    l.append(tf.squeeze(images[index:(index+1),...], axis=0))\n",
        "  l = tf.convert_to_tensor(l)\n",
        "  return l"
      ],
      "execution_count": 25,
      "outputs": []
    },
    {
      "cell_type": "markdown",
      "metadata": {
        "id": "RFg-wvIcS-Jv"
      },
      "source": [
        "Please fill in the empty list (2nd parameter) with 16 indices indicating the images you want to submit to the grader."
      ]
    },
    {
      "cell_type": "code",
      "metadata": {
        "id": "InUSbfGI-0vk"
      },
      "source": [
        "grading_images = append_to_grading_images(fake_images, list(np.arange(16,31)))"
      ],
      "execution_count": 40,
      "outputs": []
    },
    {
      "cell_type": "markdown",
      "metadata": {
        "id": "BsTurLWKJIxY"
      },
      "source": [
        "## Zip your selected images for grading\n",
        "\n",
        "Please run the code below. This will save the images you chose to a zip file named `my-signs.zip`.\n",
        "\n",
        "- Please download this file from the Files explorer on the left.\n",
        "- Please return to the Coursera classroom and upload the zip file for grading."
      ]
    },
    {
      "cell_type": "code",
      "metadata": {
        "id": "vL8W2OGBqFL_"
      },
      "source": [
        "from PIL import Image\n",
        "from zipfile import ZipFile\n",
        "\n",
        "denormalized_images = grading_images * 255\n",
        "denormalized_images = tf.dtypes.cast(denormalized_images, dtype = tf.uint8)\n",
        "\n"
      ],
      "execution_count": 41,
      "outputs": []
    },
    {
      "cell_type": "code",
      "source": [
        "tf.reshape(denormalized_images[14], [28,28])"
      ],
      "metadata": {
        "id": "OJ6Qp4bs777w",
        "outputId": "2f9409f5-6ba4-46c1-ef80-9baf658231c3",
        "colab": {
          "base_uri": "https://localhost:8080/"
        }
      },
      "execution_count": 45,
      "outputs": [
        {
          "output_type": "execute_result",
          "data": {
            "text/plain": [
              "<tf.Tensor: shape=(28, 28), dtype=uint8, numpy=\n",
              "array([[ 73,  74,  75,  72,  84,  85,  95, 106, 110, 109, 116, 120, 123,\n",
              "        124, 128, 127, 128, 125, 127, 127, 130, 130, 131, 131, 133, 129,\n",
              "        132, 133],\n",
              "       [ 83,  92,  78,  77,  87,  92, 106, 106, 111, 112, 120, 121, 122,\n",
              "        127, 126, 129, 131, 132, 131, 131, 132, 134, 135, 137, 134, 132,\n",
              "        136, 134],\n",
              "       [ 80,  85,  85,  74,  94,  99, 106, 111, 116, 118, 122, 122, 124,\n",
              "        127, 134, 131, 129, 132, 131, 134, 130, 136, 133, 136, 137, 137,\n",
              "        132, 138],\n",
              "       [ 73,  80,  80,  82,  84, 103, 107, 115, 111, 121, 125, 129, 130,\n",
              "        134, 130, 131, 132, 136, 137, 136, 133, 141, 138, 140, 135, 136,\n",
              "        139, 137],\n",
              "       [ 68,  78,  80,  88,  92, 101, 111, 113, 117, 123, 126, 130, 136,\n",
              "        134, 137, 133, 131, 139, 137, 137, 131, 132, 133, 140, 140, 138,\n",
              "        136, 142],\n",
              "       [ 68,  81,  81,  85,  94, 106, 110, 112, 115, 120, 130, 131, 131,\n",
              "        136, 137, 135, 136, 139, 133, 146, 133, 118, 139, 140, 138, 141,\n",
              "        140, 138],\n",
              "       [ 69,  84,  72,  86,  95, 106, 116, 113, 116, 129, 129, 127, 129,\n",
              "        141, 139, 140, 140, 140, 138, 142, 133, 116, 131, 139, 139, 139,\n",
              "        140, 140],\n",
              "       [ 83,  80,  68,  89,  94, 107, 110, 121, 118, 133, 133, 131, 126,\n",
              "        140, 137, 141, 141, 142, 143, 141, 137, 128, 131, 137, 139, 141,\n",
              "        142, 145],\n",
              "       [ 76,  77,  73,  89, 100, 103, 108, 113, 122, 135, 138, 133, 136,\n",
              "        146, 140, 136, 143, 140, 138, 147, 135, 127, 135, 143, 145, 146,\n",
              "        139, 147],\n",
              "       [ 71,  64,  80,  91,  96, 101, 109, 112, 127, 134, 139, 143, 138,\n",
              "        151, 144, 144, 137, 144, 138, 143, 123, 120, 143, 149, 143, 145,\n",
              "        147, 146],\n",
              "       [ 65,  62,  73,  91,  92, 101, 109, 115, 119, 128, 139, 143, 150,\n",
              "        149, 136, 139, 135, 134, 133, 124, 117, 108, 143, 144, 148, 147,\n",
              "        147, 147],\n",
              "       [ 59,  59,  79,  90,  87, 103, 109, 120, 126, 135, 139, 151, 142,\n",
              "        157, 144, 139, 122, 117, 106,  97, 109, 120, 153, 154, 145, 154,\n",
              "        148, 150],\n",
              "       [ 55,  60,  83,  93,  91, 107, 113, 118, 135, 141, 143, 133, 152,\n",
              "        154, 135, 127, 121, 101,  97,  81,  79,  93, 140, 164, 152, 151,\n",
              "        151, 153],\n",
              "       [ 55,  62,  81,  94,  93, 101, 112, 120, 129, 139, 137, 143, 155,\n",
              "        144, 117, 103,  98,  99, 102,  84,  82,  84, 126, 149, 158, 152,\n",
              "        151, 153],\n",
              "       [ 57,  65,  83,  96,  89, 103, 111, 119, 138, 141, 141, 138, 139,\n",
              "        137, 118, 105,  94,  88,  85,  77,  76,  96, 109, 140, 161, 153,\n",
              "        155, 152],\n",
              "       [ 61,  69,  86,  94,  84, 105, 112, 122, 132, 146, 128, 131, 131,\n",
              "        118, 125, 107, 101,  83,  77,  64,  71, 101, 101, 135, 155, 155,\n",
              "        152, 155],\n",
              "       [ 65,  73,  87,  89,  86, 101, 104, 116, 126, 136, 133, 117, 128,\n",
              "        121, 126, 117,  88,  71,  59,  64,  70,  99, 104, 113, 148, 159,\n",
              "        154, 150],\n",
              "       [ 65,  70,  81,  91,  84,  99,  98, 113, 122, 119, 123, 114, 120,\n",
              "        121, 111, 108,  83,  62,  47,  62,  84, 108, 113,  98, 124, 159,\n",
              "        156, 151],\n",
              "       [ 66,  71,  84,  86,  85,  93,  96, 103, 107, 104,  94,  96, 103,\n",
              "        110,  98,  90,  67,  43,  60,  87, 105, 115, 105,  92,  95, 158,\n",
              "        156, 153],\n",
              "       [ 67,  72,  84,  88,  83,  96,  92,  98,  94,  98,  91,  84,  79,\n",
              "         82,  62,  60,  71, 110, 130, 127, 118, 112, 111,  80,  90, 156,\n",
              "        156, 156],\n",
              "       [ 69,  74,  87,  81,  85,  90,  84,  84,  84,  93,  90,  78,  81,\n",
              "         57,  52,  54, 107, 171, 143, 132, 126, 109, 104,  78, 120, 153,\n",
              "        155, 156],\n",
              "       [ 70,  78,  85,  83,  77,  85,  81,  80,  86,  83,  87,  80,  72,\n",
              "         66,  88, 113, 148, 139, 144, 139, 121, 110, 107,  81, 138, 160,\n",
              "        158, 156],\n",
              "       [ 70,  77,  86,  82,  76,  73,  78,  81,  87,  95,  88,  81,  74,\n",
              "         90, 106, 137, 137, 143, 139, 138, 124, 112,  98,  98, 155, 153,\n",
              "        158, 160],\n",
              "       [ 74,  81,  85,  83,  72,  73,  75,  89,  94, 101, 100,  97,  96,\n",
              "        114, 110, 129, 141, 143, 129, 127, 116, 108,  90, 131, 162, 161,\n",
              "        155, 159],\n",
              "       [ 76,  81,  85,  81,  80,  80,  81,  90, 103, 109, 113, 114, 127,\n",
              "        122, 128, 130, 134, 137, 136, 120, 105,  91, 115, 156, 155, 160,\n",
              "        156, 158],\n",
              "       [ 73,  76,  86,  85,  72,  87,  92,  92, 105, 115, 119, 124, 128,\n",
              "        132, 134, 139, 140, 132, 134, 120, 100,  89, 146, 165, 155, 157,\n",
              "        160, 159],\n",
              "       [ 74,  78,  82,  84,  79,  83,  95, 101, 110, 116, 128, 123, 131,\n",
              "        138, 136, 139, 139, 137, 120, 113, 110, 117, 171, 164, 156, 158,\n",
              "        160, 159],\n",
              "       [ 68,  72,  83,  79,  76,  78,  83, 104, 114, 123, 128, 129, 131,\n",
              "        142, 140, 135, 139, 136, 128, 109,  95, 128, 183, 161, 146, 153,\n",
              "        161, 157]], dtype=uint8)>"
            ]
          },
          "metadata": {},
          "execution_count": 45
        }
      ]
    },
    {
      "cell_type": "code",
      "source": [
        "file_paths = []\n",
        "\n",
        "for this_image in range(0,15):\n",
        "  i = tf.reshape(denormalized_images[this_image], [28,28])\n",
        "  im = Image.fromarray(i.numpy())\n",
        "  im = im.convert(\"L\")\n",
        "  filename = \"hand\" + str(this_image) + \".png\"\n",
        "  file_paths.append(filename)\n",
        "  im.save(filename)\n",
        "\n",
        "with ZipFile('my-signs.zip', 'w') as zip:\n",
        "  for file in file_paths:\n",
        "    zip.write(file)"
      ],
      "metadata": {
        "id": "_YKDEO-n75d8"
      },
      "execution_count": 46,
      "outputs": []
    },
    {
      "cell_type": "markdown",
      "metadata": {
        "id": "Yp7jYkyXZsM9"
      },
      "source": [
        "**Congratulations on completing the final assignment of this course!**"
      ]
    }
  ]
}