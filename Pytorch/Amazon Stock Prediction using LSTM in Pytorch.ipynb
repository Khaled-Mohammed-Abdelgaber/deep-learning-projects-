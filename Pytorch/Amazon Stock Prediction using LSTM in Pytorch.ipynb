{
 "cells": [
  {
   "cell_type": "code",
   "execution_count": 1,
   "id": "3b373dc7",
   "metadata": {},
   "outputs": [],
   "source": [
    "import pandas as pd \n",
    "import numpy as np\n",
    "import torch \n",
    "import matplotlib.pyplot as plt\n",
    "import torch.nn as nn\n",
    "from torch.utils.data import Dataset\n",
    "from torch.utils.data import DataLoader\n",
    "from copy import deepcopy as dc\n",
    "from sklearn.preprocessing import MinMaxScaler"
   ]
  },
  {
   "cell_type": "code",
   "execution_count": 2,
   "id": "21352ccb",
   "metadata": {},
   "outputs": [
    {
     "data": {
      "text/html": [
       "<div>\n",
       "<style scoped>\n",
       "    .dataframe tbody tr th:only-of-type {\n",
       "        vertical-align: middle;\n",
       "    }\n",
       "\n",
       "    .dataframe tbody tr th {\n",
       "        vertical-align: top;\n",
       "    }\n",
       "\n",
       "    .dataframe thead th {\n",
       "        text-align: right;\n",
       "    }\n",
       "</style>\n",
       "<table border=\"1\" class=\"dataframe\">\n",
       "  <thead>\n",
       "    <tr style=\"text-align: right;\">\n",
       "      <th></th>\n",
       "      <th>Date</th>\n",
       "      <th>Open</th>\n",
       "      <th>High</th>\n",
       "      <th>Low</th>\n",
       "      <th>Close</th>\n",
       "      <th>Adj Close</th>\n",
       "      <th>Volume</th>\n",
       "    </tr>\n",
       "  </thead>\n",
       "  <tbody>\n",
       "    <tr>\n",
       "      <th>0</th>\n",
       "      <td>1997-05-15</td>\n",
       "      <td>0.121875</td>\n",
       "      <td>0.125000</td>\n",
       "      <td>0.096354</td>\n",
       "      <td>0.097917</td>\n",
       "      <td>0.097917</td>\n",
       "      <td>1443120000</td>\n",
       "    </tr>\n",
       "    <tr>\n",
       "      <th>1</th>\n",
       "      <td>1997-05-16</td>\n",
       "      <td>0.098438</td>\n",
       "      <td>0.098958</td>\n",
       "      <td>0.085417</td>\n",
       "      <td>0.086458</td>\n",
       "      <td>0.086458</td>\n",
       "      <td>294000000</td>\n",
       "    </tr>\n",
       "    <tr>\n",
       "      <th>2</th>\n",
       "      <td>1997-05-19</td>\n",
       "      <td>0.088021</td>\n",
       "      <td>0.088542</td>\n",
       "      <td>0.081250</td>\n",
       "      <td>0.085417</td>\n",
       "      <td>0.085417</td>\n",
       "      <td>122136000</td>\n",
       "    </tr>\n",
       "    <tr>\n",
       "      <th>3</th>\n",
       "      <td>1997-05-20</td>\n",
       "      <td>0.086458</td>\n",
       "      <td>0.087500</td>\n",
       "      <td>0.081771</td>\n",
       "      <td>0.081771</td>\n",
       "      <td>0.081771</td>\n",
       "      <td>109344000</td>\n",
       "    </tr>\n",
       "    <tr>\n",
       "      <th>4</th>\n",
       "      <td>1997-05-21</td>\n",
       "      <td>0.081771</td>\n",
       "      <td>0.082292</td>\n",
       "      <td>0.068750</td>\n",
       "      <td>0.071354</td>\n",
       "      <td>0.071354</td>\n",
       "      <td>377064000</td>\n",
       "    </tr>\n",
       "  </tbody>\n",
       "</table>\n",
       "</div>"
      ],
      "text/plain": [
       "         Date      Open      High       Low     Close  Adj Close      Volume\n",
       "0  1997-05-15  0.121875  0.125000  0.096354  0.097917   0.097917  1443120000\n",
       "1  1997-05-16  0.098438  0.098958  0.085417  0.086458   0.086458   294000000\n",
       "2  1997-05-19  0.088021  0.088542  0.081250  0.085417   0.085417   122136000\n",
       "3  1997-05-20  0.086458  0.087500  0.081771  0.081771   0.081771   109344000\n",
       "4  1997-05-21  0.081771  0.082292  0.068750  0.071354   0.071354   377064000"
      ]
     },
     "execution_count": 2,
     "metadata": {},
     "output_type": "execute_result"
    }
   ],
   "source": [
    "data = pd.read_csv('AMZN.csv')\n",
    "data.head()"
   ]
  },
  {
   "cell_type": "code",
   "execution_count": 3,
   "id": "f62169e7",
   "metadata": {},
   "outputs": [
    {
     "data": {
      "text/html": [
       "<div>\n",
       "<style scoped>\n",
       "    .dataframe tbody tr th:only-of-type {\n",
       "        vertical-align: middle;\n",
       "    }\n",
       "\n",
       "    .dataframe tbody tr th {\n",
       "        vertical-align: top;\n",
       "    }\n",
       "\n",
       "    .dataframe thead th {\n",
       "        text-align: right;\n",
       "    }\n",
       "</style>\n",
       "<table border=\"1\" class=\"dataframe\">\n",
       "  <thead>\n",
       "    <tr style=\"text-align: right;\">\n",
       "      <th></th>\n",
       "      <th>Date</th>\n",
       "      <th>Close</th>\n",
       "    </tr>\n",
       "  </thead>\n",
       "  <tbody>\n",
       "    <tr>\n",
       "      <th>0</th>\n",
       "      <td>1997-05-15</td>\n",
       "      <td>0.097917</td>\n",
       "    </tr>\n",
       "    <tr>\n",
       "      <th>1</th>\n",
       "      <td>1997-05-16</td>\n",
       "      <td>0.086458</td>\n",
       "    </tr>\n",
       "    <tr>\n",
       "      <th>2</th>\n",
       "      <td>1997-05-19</td>\n",
       "      <td>0.085417</td>\n",
       "    </tr>\n",
       "    <tr>\n",
       "      <th>3</th>\n",
       "      <td>1997-05-20</td>\n",
       "      <td>0.081771</td>\n",
       "    </tr>\n",
       "    <tr>\n",
       "      <th>4</th>\n",
       "      <td>1997-05-21</td>\n",
       "      <td>0.071354</td>\n",
       "    </tr>\n",
       "  </tbody>\n",
       "</table>\n",
       "</div>"
      ],
      "text/plain": [
       "         Date     Close\n",
       "0  1997-05-15  0.097917\n",
       "1  1997-05-16  0.086458\n",
       "2  1997-05-19  0.085417\n",
       "3  1997-05-20  0.081771\n",
       "4  1997-05-21  0.071354"
      ]
     },
     "execution_count": 3,
     "metadata": {},
     "output_type": "execute_result"
    }
   ],
   "source": [
    "data = data[['Date','Close']]\n",
    "data.head()"
   ]
  },
  {
   "cell_type": "code",
   "execution_count": 4,
   "id": "dc22b754",
   "metadata": {},
   "outputs": [
    {
     "data": {
      "text/plain": [
       "[<matplotlib.lines.Line2D at 0x126bcfd2340>]"
      ]
     },
     "execution_count": 4,
     "metadata": {},
     "output_type": "execute_result"
    },
    {
     "data": {
      "image/png": "[encoded data removed]",
      "text/plain": [
       "<Figure size 432x288 with 1 Axes>"
      ]
     },
     "metadata": {
      "needs_background": "light"
     },
     "output_type": "display_data"
    }
   ],
   "source": [
    "data['Date'] = pd.to_datetime(data['Date'])\n",
    "plt.plot(data['Date'],data['Close'])"
   ]
  },
  {
   "cell_type": "code",
   "execution_count": 5,
   "id": "e80b3946",
   "metadata": {},
   "outputs": [],
   "source": [
    "def prepare_dataframe_for_lstm(df , n_steps):\n",
    "    df = dc(df)\n",
    "    df.set_index('Date',inplace = True)\n",
    "    for i in range(1,n_steps+1):\n",
    "        df[f'Close(t-{i})'] = df['Close'].shift(i)\n",
    "    df.dropna(inplace = True)\n",
    "    return df"
   ]
  },
  {
   "cell_type": "code",
   "execution_count": 6,
   "id": "de43f700",
   "metadata": {},
   "outputs": [
    {
     "data": {
      "text/html": [
       "<div>\n",
       "<style scoped>\n",
       "    .dataframe tbody tr th:only-of-type {\n",
       "        vertical-align: middle;\n",
       "    }\n",
       "\n",
       "    .dataframe tbody tr th {\n",
       "        vertical-align: top;\n",
       "    }\n",
       "\n",
       "    .dataframe thead th {\n",
       "        text-align: right;\n",
       "    }\n",
       "</style>\n",
       "<table border=\"1\" class=\"dataframe\">\n",
       "  <thead>\n",
       "    <tr style=\"text-align: right;\">\n",
       "      <th></th>\n",
       "      <th>Close</th>\n",
       "      <th>Close(t-1)</th>\n",
       "      <th>Close(t-2)</th>\n",
       "      <th>Close(t-3)</th>\n",
       "      <th>Close(t-4)</th>\n",
       "      <th>Close(t-5)</th>\n",
       "      <th>Close(t-6)</th>\n",
       "      <th>Close(t-7)</th>\n",
       "    </tr>\n",
       "    <tr>\n",
       "      <th>Date</th>\n",
       "      <th></th>\n",
       "      <th></th>\n",
       "      <th></th>\n",
       "      <th></th>\n",
       "      <th></th>\n",
       "      <th></th>\n",
       "      <th></th>\n",
       "      <th></th>\n",
       "    </tr>\n",
       "  </thead>\n",
       "  <tbody>\n",
       "    <tr>\n",
       "      <th>1997-05-27</th>\n",
       "      <td>0.079167</td>\n",
       "      <td>0.075000</td>\n",
       "      <td>0.069792</td>\n",
       "      <td>0.071354</td>\n",
       "      <td>0.081771</td>\n",
       "      <td>0.085417</td>\n",
       "      <td>0.086458</td>\n",
       "      <td>0.097917</td>\n",
       "    </tr>\n",
       "    <tr>\n",
       "      <th>1997-05-28</th>\n",
       "      <td>0.076563</td>\n",
       "      <td>0.079167</td>\n",
       "      <td>0.075000</td>\n",
       "      <td>0.069792</td>\n",
       "      <td>0.071354</td>\n",
       "      <td>0.081771</td>\n",
       "      <td>0.085417</td>\n",
       "      <td>0.086458</td>\n",
       "    </tr>\n",
       "    <tr>\n",
       "      <th>1997-05-29</th>\n",
       "      <td>0.075260</td>\n",
       "      <td>0.076563</td>\n",
       "      <td>0.079167</td>\n",
       "      <td>0.075000</td>\n",
       "      <td>0.069792</td>\n",
       "      <td>0.071354</td>\n",
       "      <td>0.081771</td>\n",
       "      <td>0.085417</td>\n",
       "    </tr>\n",
       "    <tr>\n",
       "      <th>1997-05-30</th>\n",
       "      <td>0.075000</td>\n",
       "      <td>0.075260</td>\n",
       "      <td>0.076563</td>\n",
       "      <td>0.079167</td>\n",
       "      <td>0.075000</td>\n",
       "      <td>0.069792</td>\n",
       "      <td>0.071354</td>\n",
       "      <td>0.081771</td>\n",
       "    </tr>\n",
       "    <tr>\n",
       "      <th>1997-06-02</th>\n",
       "      <td>0.075521</td>\n",
       "      <td>0.075000</td>\n",
       "      <td>0.075260</td>\n",
       "      <td>0.076563</td>\n",
       "      <td>0.079167</td>\n",
       "      <td>0.075000</td>\n",
       "      <td>0.069792</td>\n",
       "      <td>0.071354</td>\n",
       "    </tr>\n",
       "  </tbody>\n",
       "</table>\n",
       "</div>"
      ],
      "text/plain": [
       "               Close  Close(t-1)  Close(t-2)  Close(t-3)  Close(t-4)  \\\n",
       "Date                                                                   \n",
       "1997-05-27  0.079167    0.075000    0.069792    0.071354    0.081771   \n",
       "1997-05-28  0.076563    0.079167    0.075000    0.069792    0.071354   \n",
       "1997-05-29  0.075260    0.076563    0.079167    0.075000    0.069792   \n",
       "1997-05-30  0.075000    0.075260    0.076563    0.079167    0.075000   \n",
       "1997-06-02  0.075521    0.075000    0.075260    0.076563    0.079167   \n",
       "\n",
       "            Close(t-5)  Close(t-6)  Close(t-7)  \n",
       "Date                                            \n",
       "1997-05-27    0.085417    0.086458    0.097917  \n",
       "1997-05-28    0.081771    0.085417    0.086458  \n",
       "1997-05-29    0.071354    0.081771    0.085417  \n",
       "1997-05-30    0.069792    0.071354    0.081771  \n",
       "1997-06-02    0.075000    0.069792    0.071354  "
      ]
     },
     "execution_count": 6,
     "metadata": {},
     "output_type": "execute_result"
    }
   ],
   "source": [
    "lookback = 7\n",
    "shifted_df = prepare_dataframe_for_lstm(data , lookback)\n",
    "shifted_df.head()"
   ]
  },
  {
   "cell_type": "code",
   "execution_count": 7,
   "id": "5eae3fbd",
   "metadata": {},
   "outputs": [
    {
     "data": {
      "text/plain": [
       "array([[7.91670000e-02, 7.50000000e-02, 6.97920000e-02, ...,\n",
       "        8.54170000e-02, 8.64580000e-02, 9.79170000e-02],\n",
       "       [7.65630000e-02, 7.91670000e-02, 7.50000000e-02, ...,\n",
       "        8.17710000e-02, 8.54170000e-02, 8.64580000e-02],\n",
       "       [7.52600000e-02, 7.65630000e-02, 7.91670000e-02, ...,\n",
       "        7.13540000e-02, 8.17710000e-02, 8.54170000e-02],\n",
       "       ...,\n",
       "       [1.02410004e+02, 1.03290001e+02, 1.02000000e+02, ...,\n",
       "        9.80400010e+01, 9.81299970e+01, 9.87099990e+01],\n",
       "       [1.03949997e+02, 1.02410004e+02, 1.03290001e+02, ...,\n",
       "        9.72399980e+01, 9.80400010e+01, 9.81299970e+01],\n",
       "       [1.01099998e+02, 1.03949997e+02, 1.02410004e+02, ...,\n",
       "        1.00250000e+02, 9.72399980e+01, 9.80400010e+01]])"
      ]
     },
     "execution_count": 7,
     "metadata": {},
     "output_type": "execute_result"
    }
   ],
   "source": [
    "shifted_df_as_np = shifted_df.to_numpy()\n",
    "shifted_df_as_np"
   ]
  },
  {
   "cell_type": "code",
   "execution_count": 8,
   "id": "f87e8470",
   "metadata": {},
   "outputs": [
    {
     "data": {
      "text/plain": [
       "(6509, 8)"
      ]
     },
     "execution_count": 8,
     "metadata": {},
     "output_type": "execute_result"
    }
   ],
   "source": [
    "shifted_df_as_np.shape"
   ]
  },
  {
   "cell_type": "code",
   "execution_count": 9,
   "id": "6e42371b",
   "metadata": {},
   "outputs": [
    {
     "data": {
      "text/plain": [
       "array([[-0.99991063, -0.99995531, -1.        , ..., -0.99983244,\n",
       "        -0.99982128, -0.99969839],\n",
       "       [-0.99993855, -0.99991063, -0.99994415, ..., -0.99987154,\n",
       "        -0.99983244, -0.99982128],\n",
       "       [-0.99995253, -0.99993855, -0.99989946, ..., -0.99998325,\n",
       "        -0.99987154, -0.99983244],\n",
       "       ...,\n",
       "       [ 0.09747299,  0.10690997,  0.09308121, ...,  0.0506149 ,\n",
       "         0.05158   ,  0.05779984],\n",
       "       [ 0.11398769,  0.09747299,  0.10691495, ...,  0.04203581,\n",
       "         0.0506149 ,  0.05158   ],\n",
       "       [ 0.08342464,  0.11398769,  0.09747802, ...,  0.07431453,\n",
       "         0.04203581,  0.0506149 ]])"
      ]
     },
     "execution_count": 9,
     "metadata": {},
     "output_type": "execute_result"
    }
   ],
   "source": [
    "scaler = MinMaxScaler(feature_range=(-1,1))\n",
    "shifted_df_as_np = scaler.fit_transform(shifted_df_as_np)\n",
    "shifted_df_as_np"
   ]
  },
  {
   "cell_type": "code",
   "execution_count": 10,
   "id": "6df565c3",
   "metadata": {},
   "outputs": [
    {
     "data": {
      "text/plain": [
       "((6509, 7), (6509,))"
      ]
     },
     "execution_count": 10,
     "metadata": {},
     "output_type": "execute_result"
    }
   ],
   "source": [
    "X = shifted_df_as_np[:,1:]\n",
    "y = shifted_df_as_np[:,0]\n",
    "X.shape , y.shape"
   ]
  },
  {
   "cell_type": "code",
   "execution_count": 11,
   "id": "616ae043",
   "metadata": {},
   "outputs": [
    {
     "data": {
      "text/plain": [
       "array([[-0.99969839, -0.99982128, -0.99983244, ..., -0.99998325,\n",
       "        -1.        , -0.99995531],\n",
       "       [-0.99982128, -0.99983244, -0.99987154, ..., -1.        ,\n",
       "        -0.99994415, -0.99991063],\n",
       "       [-0.99983244, -0.99987154, -0.99998325, ..., -0.99994415,\n",
       "        -0.99989946, -0.99993855],\n",
       "       ...,\n",
       "       [ 0.05779984,  0.05158   ,  0.0506149 , ...,  0.07431453,\n",
       "         0.09308121,  0.10690997],\n",
       "       [ 0.05158   ,  0.0506149 ,  0.04203581, ...,  0.09308121,\n",
       "         0.10691495,  0.09747299],\n",
       "       [ 0.0506149 ,  0.04203581,  0.07431453, ...,  0.10691495,\n",
       "         0.09747802,  0.11398769]])"
      ]
     },
     "execution_count": 11,
     "metadata": {},
     "output_type": "execute_result"
    }
   ],
   "source": [
    "X = dc(np.flip(X,axis = 1))\n",
    "X"
   ]
  },
  {
   "cell_type": "code",
   "execution_count": 12,
   "id": "0b3f2f4f",
   "metadata": {},
   "outputs": [
    {
     "data": {
      "text/plain": [
       "6183"
      ]
     },
     "execution_count": 12,
     "metadata": {},
     "output_type": "execute_result"
    }
   ],
   "source": [
    "split_index = int(len(X)*0.95)\n",
    "split_index"
   ]
  },
  {
   "cell_type": "code",
   "execution_count": 13,
   "id": "a257bb7b",
   "metadata": {},
   "outputs": [
    {
     "data": {
      "text/plain": [
       "((6183, 7), (326, 7), (6183,), (326,))"
      ]
     },
     "execution_count": 13,
     "metadata": {},
     "output_type": "execute_result"
    }
   ],
   "source": [
    "X_train = X[:split_index]\n",
    "X_test = X[split_index:]\n",
    "\n",
    "y_train = y[:split_index]\n",
    "y_test = y[split_index:]\n",
    "\n",
    "X_train.shape , X_test.shape , y_train.shape, y_test.shape"
   ]
  },
  {
   "cell_type": "code",
   "execution_count": 14,
   "id": "f1cf6bd9",
   "metadata": {},
   "outputs": [
    {
     "data": {
      "text/plain": [
       "((6183, 7, 1), (326, 7, 1), (6183, 1), (326, 1))"
      ]
     },
     "execution_count": 14,
     "metadata": {},
     "output_type": "execute_result"
    }
   ],
   "source": [
    "X_train = X_train.reshape((-1, lookback, 1))\n",
    "X_test = X_test.reshape((-1, lookback, 1))\n",
    "\n",
    "y_train = y_train.reshape((-1, 1))\n",
    "y_test = y_test.reshape((-1, 1))\n",
    "\n",
    "X_train.shape, X_test.shape, y_train.shape, y_test.shape"
   ]
  },
  {
   "cell_type": "code",
   "execution_count": 15,
   "id": "09d876e1",
   "metadata": {},
   "outputs": [
    {
     "data": {
      "text/plain": [
       "(torch.Size([6183, 7, 1]),\n",
       " torch.Size([326, 7, 1]),\n",
       " torch.Size([6183, 1]),\n",
       " torch.Size([326, 1]))"
      ]
     },
     "execution_count": 15,
     "metadata": {},
     "output_type": "execute_result"
    }
   ],
   "source": [
    "X_train = torch.tensor(X_train).float()\n",
    "y_train = torch.tensor(y_train).float()\n",
    "\n",
    "X_test = torch.tensor(X_test).float()\n",
    "y_test = torch.tensor(y_test).float()\n",
    "X_train.shape, X_test.shape, y_train.shape, y_test.shape"
   ]
  },
  {
   "cell_type": "code",
   "execution_count": 16,
   "id": "e1747a97",
   "metadata": {},
   "outputs": [],
   "source": [
    "class TimeSeriesDataset(Dataset):\n",
    "    def __init__(self,x,y):\n",
    "        super(TimeSeriesDataset,self).__init__()\n",
    "        self.x = x\n",
    "        self.y = y\n",
    "    def  __len__(self):\n",
    "        return len(self.x)\n",
    "    def __getitem__(self,index):\n",
    "        return self.x[index] , self.y[index]\n",
    "    "
   ]
  },
  {
   "cell_type": "code",
   "execution_count": 17,
   "id": "74e39c7d",
   "metadata": {},
   "outputs": [],
   "source": [
    "train_dataset = TimeSeriesDataset(X_train, y_train)\n",
    "test_dataset = TimeSeriesDataset(X_test , y_test)\n"
   ]
  },
  {
   "cell_type": "code",
   "execution_count": 18,
   "id": "4fd0a150",
   "metadata": {},
   "outputs": [],
   "source": [
    "batch_size = 16\n",
    "train_loader = DataLoader(train_dataset,\n",
    "                          batch_size = batch_size,\n",
    "                         shuffle = True)\n",
    "test_loader = DataLoader(test_dataset,\n",
    "                          batch_size = batch_size,\n",
    "                         shuffle = False)\n"
   ]
  },
  {
   "cell_type": "code",
   "execution_count": 20,
   "id": "d09bd16e",
   "metadata": {},
   "outputs": [
    {
     "data": {
      "text/plain": [
       "'cpu'"
      ]
     },
     "execution_count": 20,
     "metadata": {},
     "output_type": "execute_result"
    }
   ],
   "source": [
    "device = 'cuda:0' if torch.cuda.is_available() else 'cpu'\n",
    "device"
   ]
  },
  {
   "cell_type": "code",
   "execution_count": 21,
   "id": "57e52002",
   "metadata": {},
   "outputs": [
    {
     "name": "stdout",
     "output_type": "stream",
     "text": [
      "torch.Size([16, 7, 1]) torch.Size([16, 1])\n"
     ]
    }
   ],
   "source": [
    "for _, batch in enumerate(train_loader):\n",
    "    x_batch, y_batch = batch[0].to(device), batch[1].to(device)\n",
    "    print(x_batch.shape, y_batch.shape)\n",
    "    break"
   ]
  },
  {
   "cell_type": "code",
   "execution_count": 22,
   "id": "9d383f23",
   "metadata": {},
   "outputs": [],
   "source": [
    "class MY_LSTM(nn.Module):\n",
    "    def __init__(self , n_features, hidden_dim , num_stacked_layers):\n",
    "        super().__init__()\n",
    "        self.n_features = n_features\n",
    "        self.hidden_dim = hidden_dim\n",
    "        self.num_stacked_layers = num_stacked_layers\n",
    "        self.lstm = nn.LSTM(self.n_features , self.hidden_dim,self.num_stacked_layers,batch_first = True)\n",
    "        self.fc = nn.Linear(self.hidden_dim , 1)\n",
    "    def forward(self,x):\n",
    "        batch_size = x.size(0)\n",
    "        h0 = torch.zeros(self.num_stacked_layers , batch_size , self.hidden_dim).to(device)\n",
    "        c0 = torch.zeros(self.num_stacked_layers , batch_size , self.hidden_dim).to(device)\n",
    "        out,_ = self.lstm(x, (h0,c0))\n",
    "        out = self.fc(out[:,-1,:])\n",
    "        return out"
   ]
  },
  {
   "cell_type": "code",
   "execution_count": 23,
   "id": "e1290082",
   "metadata": {},
   "outputs": [
    {
     "data": {
      "text/plain": [
       "MY_LSTM(\n",
       "  (lstm): LSTM(1, 4, batch_first=True)\n",
       "  (fc): Linear(in_features=4, out_features=1, bias=True)\n",
       ")"
      ]
     },
     "execution_count": 23,
     "metadata": {},
     "output_type": "execute_result"
    }
   ],
   "source": [
    "model = MY_LSTM(1,4,1)\n",
    "model.to(device)\n",
    "model"
   ]
  },
  {
   "cell_type": "code",
   "execution_count": 27,
   "id": "408c6ef6",
   "metadata": {},
   "outputs": [],
   "source": [
    "def train_one_epoch():\n",
    "    model.train(True)\n",
    "    print(f'Epoch: {epoch + 1}')\n",
    "    running_loss = 0.0\n",
    "    for batch_index , batch in enumerate(train_loader):\n",
    "        x_batch, y_batch = batch[0].to(device) , batch[1].to(device)\n",
    "        output = model(x_batch)\n",
    "        loss = loss_function(output,y_batch)\n",
    "        running_loss += loss.item()\n",
    "        optimizer.zero_grad()\n",
    "        loss.backward()\n",
    "        optimizer.step()\n",
    "        \n",
    "        if batch_index %100 == 99:\n",
    "            avg_loss_across_batches = running_loss / 100\n",
    "            print('Batch {0}, Loss: {1:.3f}'.format(batch_index +1 ,avg_loss_across_batches))\n",
    "            running_loss = 0.0\n",
    "    \n",
    "    print()    "
   ]
  },
  {
   "cell_type": "code",
   "execution_count": 28,
   "id": "e5b64be3",
   "metadata": {},
   "outputs": [],
   "source": [
    "def validate_one_epoch():\n",
    "    model.train(False)\n",
    "    running_loss = 0.0\n",
    "    for batch_index , batch in enumerate(test_loader):\n",
    "        x_batch , y_batch = batch[0].to(device) , batch[1].to(device)\n",
    "        with torch.no_grad():\n",
    "            output = model(x_batch)\n",
    "            loss = loss_function(output, y_batch)\n",
    "            running_loss += loss.item()\n",
    "            \n",
    "    avg_loss_across_batches = running_loss/len(test_loader)\n",
    "    print('Val Loss: {0:.3f}'.format(avg_loss_across_batches))\n",
    "    print('***************************************************')\n",
    "    print()"
   ]
  },
  {
   "cell_type": "code",
   "execution_count": 30,
   "id": "11c7a3e6",
   "metadata": {},
   "outputs": [
    {
     "name": "stdout",
     "output_type": "stream",
     "text": [
      "Epoch: 1\n",
      "Batch 100, Loss: 0.000\n",
      "Batch 200, Loss: 0.000\n",
      "Batch 300, Loss: 0.000\n",
      "\n",
      "Val Loss: 0.003\n",
      "***************************************************\n",
      "\n",
      "Epoch: 2\n",
      "Batch 100, Loss: 0.000\n",
      "Batch 200, Loss: 0.000\n",
      "Batch 300, Loss: 0.000\n",
      "\n",
      "Val Loss: 0.003\n",
      "***************************************************\n",
      "\n",
      "Epoch: 3\n",
      "Batch 100, Loss: 0.000\n",
      "Batch 200, Loss: 0.000\n",
      "Batch 300, Loss: 0.000\n",
      "\n",
      "Val Loss: 0.002\n",
      "***************************************************\n",
      "\n",
      "Epoch: 4\n",
      "Batch 100, Loss: 0.000\n",
      "Batch 200, Loss: 0.000\n",
      "Batch 300, Loss: 0.000\n",
      "\n",
      "Val Loss: 0.003\n",
      "***************************************************\n",
      "\n",
      "Epoch: 5\n",
      "Batch 100, Loss: 0.000\n",
      "Batch 200, Loss: 0.000\n",
      "Batch 300, Loss: 0.000\n",
      "\n",
      "Val Loss: 0.002\n",
      "***************************************************\n",
      "\n",
      "Epoch: 6\n",
      "Batch 100, Loss: 0.000\n",
      "Batch 200, Loss: 0.000\n",
      "Batch 300, Loss: 0.000\n",
      "\n",
      "Val Loss: 0.002\n",
      "***************************************************\n",
      "\n",
      "Epoch: 7\n",
      "Batch 100, Loss: 0.000\n",
      "Batch 200, Loss: 0.000\n",
      "Batch 300, Loss: 0.000\n",
      "\n",
      "Val Loss: 0.002\n",
      "***************************************************\n",
      "\n",
      "Epoch: 8\n",
      "Batch 100, Loss: 0.000\n",
      "Batch 200, Loss: 0.000\n",
      "Batch 300, Loss: 0.000\n",
      "\n",
      "Val Loss: 0.002\n",
      "***************************************************\n",
      "\n",
      "Epoch: 9\n",
      "Batch 100, Loss: 0.000\n",
      "Batch 200, Loss: 0.000\n",
      "Batch 300, Loss: 0.000\n",
      "\n",
      "Val Loss: 0.002\n",
      "***************************************************\n",
      "\n",
      "Epoch: 10\n",
      "Batch 100, Loss: 0.000\n",
      "Batch 200, Loss: 0.000\n",
      "Batch 300, Loss: 0.000\n",
      "\n",
      "Val Loss: 0.002\n",
      "***************************************************\n",
      "\n",
      "Epoch: 11\n",
      "Batch 100, Loss: 0.000\n",
      "Batch 200, Loss: 0.000\n",
      "Batch 300, Loss: 0.000\n",
      "\n",
      "Val Loss: 0.002\n",
      "***************************************************\n",
      "\n",
      "Epoch: 12\n",
      "Batch 100, Loss: 0.000\n",
      "Batch 200, Loss: 0.000\n",
      "Batch 300, Loss: 0.000\n",
      "\n",
      "Val Loss: 0.002\n",
      "***************************************************\n",
      "\n",
      "Epoch: 13\n",
      "Batch 100, Loss: 0.000\n",
      "Batch 200, Loss: 0.000\n",
      "Batch 300, Loss: 0.000\n",
      "\n",
      "Val Loss: 0.002\n",
      "***************************************************\n",
      "\n",
      "Epoch: 14\n",
      "Batch 100, Loss: 0.000\n",
      "Batch 200, Loss: 0.000\n",
      "Batch 300, Loss: 0.000\n",
      "\n",
      "Val Loss: 0.002\n",
      "***************************************************\n",
      "\n",
      "Epoch: 15\n",
      "Batch 100, Loss: 0.000\n",
      "Batch 200, Loss: 0.000\n",
      "Batch 300, Loss: 0.000\n",
      "\n",
      "Val Loss: 0.002\n",
      "***************************************************\n",
      "\n"
     ]
    }
   ],
   "source": [
    "learning_rate = 0.001\n",
    "num_epochs = 15\n",
    "loss_function = nn.MSELoss()\n",
    "optimizer = torch.optim.Adam(model.parameters(), lr=learning_rate)\n",
    "\n",
    "for epoch in range(num_epochs):\n",
    "    train_one_epoch()\n",
    "    validate_one_epoch()"
   ]
  },
  {
   "cell_type": "code",
   "execution_count": 32,
   "id": "192a1e9d",
   "metadata": {},
   "outputs": [
    {
     "data": {
      "image/png": "[encoded data removed]",
      "text/plain": [
       "<Figure size 432x288 with 1 Axes>"
      ]
     },
     "metadata": {
      "needs_background": "light"
     },
     "output_type": "display_data"
    }
   ],
   "source": [
    "with torch.no_grad():\n",
    "    predicted = model(X_train.to(device)).to('cpu').numpy()\n",
    "plt.plot(y_train, label = 'Actual Close')\n",
    "plt.plot(predicted, label = 'Predicted')\n",
    "plt.xlabel('Day')\n",
    "plt.ylabel('Close')\n",
    "plt.legend()\n",
    "plt.show()"
   ]
  },
  {
   "cell_type": "code",
   "execution_count": 33,
   "id": "240cc350",
   "metadata": {},
   "outputs": [
    {
     "data": {
      "text/plain": [
       "array([ -0.37787428,  -0.37963064,  -0.38058664, ..., 172.16674787,\n",
       "       171.02092412, 172.47430661])"
      ]
     },
     "execution_count": 33,
     "metadata": {},
     "output_type": "execute_result"
    }
   ],
   "source": [
    "train_predictions = predicted.flatten()\n",
    "dummies = np.zeros((X_train.shape[0],lookback+1))\n",
    "dummies[:,0] = train_predictions\n",
    "dummies = scaler.inverse_transform(dummies)\n",
    "\n",
    "train_predictions = dc(dummies[:,0])\n",
    "train_predictions"
   ]
  },
  {
   "cell_type": "code",
   "execution_count": 34,
   "id": "9e679f5c",
   "metadata": {},
   "outputs": [
    {
     "data": {
      "text/plain": [
       "array([7.91646265e-02, 7.65634249e-02, 7.52572660e-02, ...,\n",
       "       1.69091505e+02, 1.73315001e+02, 1.68871003e+02])"
      ]
     },
     "execution_count": 34,
     "metadata": {},
     "output_type": "execute_result"
    }
   ],
   "source": [
    "dummies = np.zeros((X_train.shape[0], lookback+1))\n",
    "dummies[:, 0] = y_train.flatten()\n",
    "dummies = scaler.inverse_transform(dummies)\n",
    "\n",
    "new_y_train = dc(dummies[:, 0])\n",
    "new_y_train"
   ]
  },
  {
   "cell_type": "code",
   "execution_count": 35,
   "id": "1379cc85",
   "metadata": {},
   "outputs": [
    {
     "data": {
      "image/png": "[encoded data removed]",
      "text/plain": [
       "<Figure size 432x288 with 1 Axes>"
      ]
     },
     "metadata": {
      "needs_background": "light"
     },
     "output_type": "display_data"
    }
   ],
   "source": [
    "plt.plot(new_y_train, label='Actual Close')\n",
    "plt.plot(train_predictions, label='Predicted Close')\n",
    "plt.xlabel('Day')\n",
    "plt.ylabel('Close')\n",
    "plt.legend()\n",
    "plt.show()"
   ]
  },
  {
   "cell_type": "code",
   "execution_count": 36,
   "id": "bf58fbb2",
   "metadata": {},
   "outputs": [
    {
     "data": {
      "text/plain": [
       "array([170.98156149, 170.92947077, 169.43022265, 170.38254034,\n",
       "       171.08307505, 171.45684772, 170.98716408, 171.25686645,\n",
       "       170.64346643, 170.0763211 , 168.83797128, 170.08429145,\n",
       "       169.21808576, 167.26262134, 165.7538466 , 164.64188849,\n",
       "       163.55147367, 165.0730988 , 165.74130747, 164.03195674,\n",
       "       163.69551799, 161.81110306, 159.48710173, 155.81593364,\n",
       "       148.92368316, 146.69812175, 143.26799279, 141.11779952,\n",
       "       140.78706897, 143.40555633, 147.99415377, 150.97592006,\n",
       "       151.86136242, 145.35394526, 152.82350687, 156.75660707,\n",
       "       160.28317502, 161.71368028, 161.14656275, 157.6929396 ,\n",
       "       156.91891538, 157.3639265 , 158.49442651, 157.19027406,\n",
       "       155.41960612, 153.21215863, 149.08016656, 150.89665011,\n",
       "       153.36403434, 154.41312452, 153.49662893, 153.49737372,\n",
       "       151.13739466, 148.64382611, 142.70670017, 138.99068915,\n",
       "       139.51200218, 144.59328277, 146.33062977, 144.76430622,\n",
       "       147.04859476, 151.45706455, 155.74649601, 159.77038815,\n",
       "       161.66004439, 164.2025411 , 164.54017484, 164.778396  ,\n",
       "       165.42571169, 167.84622982, 169.12111319, 168.24735401,\n",
       "       166.16737651, 165.40623046, 167.44581708, 166.2235469 ,\n",
       "       162.94875081, 160.83012768, 157.9826123 , 154.76365311,\n",
       "       153.09100822, 155.11542116, 154.05459779, 154.12060606,\n",
       "       157.13108561, 156.30881688, 152.64767565, 148.53433108,\n",
       "       147.6088758 , 143.44187311, 140.73807967, 143.54012961,\n",
       "       133.00719735, 127.53405241, 125.45681507, 126.06484594,\n",
       "       120.83066695, 117.10056053, 112.10757767, 109.95545018,\n",
       "       107.39556211, 107.2700847 , 111.26302643, 112.07262542,\n",
       "       114.76402702, 111.06711926, 108.87531511, 108.30382334,\n",
       "       108.2839725 , 106.29933627, 106.82734407, 109.96856735,\n",
       "       114.08124773, 118.95936919, 121.89056211, 125.15090709,\n",
       "       124.53403324, 125.31874018, 124.65178764, 123.10403378,\n",
       "       119.29114467, 113.51641458, 107.33671548, 103.95755173,\n",
       "       106.17800245, 105.48755572, 106.35419773, 108.38098398,\n",
       "       109.52319495, 111.98859215, 115.60404839, 115.2244536 ,\n",
       "       111.04882192, 109.7439108 , 107.93741519, 109.1790582 ,\n",
       "       112.50175142, 114.62389284, 116.5395611 , 116.78575955,\n",
       "       114.35886208, 111.49034533, 110.96658671, 111.21063556,\n",
       "       113.20704389, 114.37469717, 117.4539182 , 121.70856137,\n",
       "       124.68159029, 124.3694072 , 123.05884624, 118.4991955 ,\n",
       "       120.01189428, 122.1608592 , 130.89143666, 135.29829459,\n",
       "       135.94444863, 139.00704114, 142.18581511, 142.47704964,\n",
       "       141.54524698, 140.08327719, 142.27489515, 142.24715455,\n",
       "       143.83788938, 144.39628066, 145.49920125, 144.41989712,\n",
       "       143.9170704 , 141.31253392, 137.02240214, 135.28288191,\n",
       "       134.88462016, 136.99732944, 134.17944997, 132.01186534,\n",
       "       130.47335464, 128.69854033, 128.61819211, 128.59017917,\n",
       "       127.75634954, 129.39289998, 130.51873671, 133.03723344,\n",
       "       136.10597324, 131.6028375 , 130.05003131, 128.22074184,\n",
       "       125.78234322, 125.43698369, 124.03005043, 121.13440726,\n",
       "       119.02623341, 116.11537626, 115.69314511, 115.39766139,\n",
       "       117.52403392, 116.7227749 , 114.95274475, 115.85171558,\n",
       "       119.73706177, 121.58942856, 121.70279204, 118.01618349,\n",
       "       115.48927871, 113.69000033, 113.4996763 , 113.43006636,\n",
       "       110.02458768, 112.38226289, 115.65644204, 116.32041264,\n",
       "       116.37321203, 118.77565654, 120.32233769, 121.32486746,\n",
       "       118.63746493, 114.23469917, 107.665434  , 104.12871135,\n",
       "        99.79126604,  95.25112293,  91.7395355 ,  91.2983442 ,\n",
       "        91.27624649,  91.00704158,  88.70247422,  93.23938807,\n",
       "        98.67565625,  99.77764586,  99.89327427,  98.74023608,\n",
       "        96.78058639,  95.4597832 ,  94.02907091,  93.81335737,\n",
       "        94.42018075,  94.37769862,  94.56864099,  93.81265288,\n",
       "        95.7000025 ,  96.29837197,  95.58708506,  93.3296506 ,\n",
       "        90.60920363,  89.47870085,  90.26168337,  90.15963346,\n",
       "        90.78481392,  92.23741271,  92.47940644,  90.67609008,\n",
       "        89.28201138,  87.11874819,  86.20633643,  86.82130523,\n",
       "        85.67678348,  85.68012947,  84.65235608,  83.38349217,\n",
       "        84.02888196,  84.49190141,  85.63514897,  85.89397964,\n",
       "        84.78795483,  85.69883255,  87.11558423,  89.20612771,\n",
       "        93.18617182,  95.31531091,  97.62795838,  97.46993817,\n",
       "        96.72628631,  95.3219751 ,  96.6850631 ,  97.81948575,\n",
       "        97.57754899,  97.76840104,  99.09264332, 101.58873247,\n",
       "       101.8121579 , 103.1059778 , 104.98574614, 110.51995262,\n",
       "       107.5396898 , 104.50185038, 103.14586567, 101.60622528,\n",
       "        99.9105517 ,  98.82240598,  99.55678133, 100.22058102,\n",
       "       101.34740433, 100.11208646,  98.71713652,  96.59715166,\n",
       "        96.29832473,  96.44724074,  95.24570514,  94.68214481,\n",
       "        94.79291821,  93.76316474,  93.14318807,  94.49646598,\n",
       "        94.70142733,  94.51720195,  94.58866274,  93.70381233,\n",
       "        92.3421083 ,  92.64321545,  94.39457725,  96.11892519,\n",
       "        99.07854097,  99.86734146,  99.17936671, 100.37897641,\n",
       "       100.03371692,  99.68893682,  99.20738243,  98.92764626,\n",
       "        98.37685989,  99.86382178, 101.80120979, 103.43878153,\n",
       "       103.55202829, 104.29757547])"
      ]
     },
     "execution_count": 36,
     "metadata": {},
     "output_type": "execute_result"
    }
   ],
   "source": [
    "test_predictions = model(X_test.to(device)).detach().cpu().numpy().flatten()\n",
    "\n",
    "dummies = np.zeros((X_test.shape[0], lookback+1))\n",
    "dummies[:, 0] = test_predictions\n",
    "dummies = scaler.inverse_transform(dummies)\n",
    "\n",
    "test_predictions = dc(dummies[:, 0])\n",
    "test_predictions"
   ]
  },
  {
   "cell_type": "code",
   "execution_count": 37,
   "id": "58b3eed3",
   "metadata": {},
   "outputs": [
    {
     "data": {
      "text/plain": [
       "array([170.01749949, 167.07899763, 170.41700626, 171.03700377,\n",
       "       171.0684961 , 169.66949429, 170.66099675, 169.20100565,\n",
       "       168.64449858, 166.71699707, 170.40449492, 167.52200227,\n",
       "       164.35699578, 163.25399737, 162.55400179, 161.48599177,\n",
       "       165.36199892, 165.20699954, 161.21400501, 162.13799851,\n",
       "       158.91749416, 156.29899568, 151.66749509, 142.64300408,\n",
       "       144.54400445, 139.98599336, 138.87249844, 139.63749627,\n",
       "       143.97799855, 149.57350001, 151.19349835, 150.61250219,\n",
       "       138.84550541, 157.63949825, 157.93550165, 161.41349717,\n",
       "       161.18949925, 159.003495  , 153.29350176, 155.1670061 ,\n",
       "       156.51049894, 158.10049453, 154.6524962 , 152.60149876,\n",
       "       150.19749381, 144.82699629, 151.35800212, 153.78849709,\n",
       "       153.56300403, 151.14199678, 152.05250627, 147.89849848,\n",
       "       145.64100565, 137.45300383, 136.01449488, 139.27900567,\n",
       "       146.81750468, 145.52450739, 141.8529947 , 147.36650272,\n",
       "       153.10400311, 157.23899657, 161.25050521, 161.49149987,\n",
       "       164.8890082 , 163.4080074 , 163.64950785, 164.77349929,\n",
       "       168.99049174, 169.31500275, 166.30099379, 162.99749555,\n",
       "       163.55999984, 168.34649425, 164.05499516, 158.75599734,\n",
       "       157.78449856, 154.4604964 , 151.1219931 , 150.78750525,\n",
       "       155.54100108, 151.70649644, 152.78500575, 158.11549591,\n",
       "       153.99799942, 148.29600432, 144.35000372, 146.07400567,\n",
       "       139.39100462, 138.16700588, 144.59649537, 124.2815027 ,\n",
       "       124.50000086, 124.25350088, 125.92849685, 116.40699847,\n",
       "       114.77249899, 108.78900163, 108.85900063, 105.37200234,\n",
       "       106.93049589, 113.05500005, 110.81050072, 115.36850069,\n",
       "       107.11250358, 107.31900035, 107.59100239, 107.55699918,\n",
       "       104.09999809, 106.77500184, 111.07749906, 115.14649953,\n",
       "       120.20950223, 121.68399725, 125.51100121, 122.34999935,\n",
       "       124.79000149, 122.99999961, 121.18000054, 116.15000198,\n",
       "       109.65000214, 103.66999806, 102.30999829, 107.6699986 ,\n",
       "       103.66000386, 106.22000101, 108.67999989, 108.94999683,\n",
       "       112.44000207, 116.45999935, 113.22000127, 107.40000166,\n",
       "       108.91999825, 106.20999917, 109.55999806, 113.50000006,\n",
       "       114.33000152, 116.3300018 , 115.54000075, 111.74999999,\n",
       "       109.22000073, 110.40000137, 110.62999651, 113.55000232,\n",
       "       113.76000211, 118.20999802, 122.76999614, 124.62999702,\n",
       "       122.41999835, 121.13999873, 114.80999825, 120.97000076,\n",
       "       122.28000035, 134.94999758, 135.38999806, 134.16000488,\n",
       "       139.5200031 , 142.57000925, 140.80000272, 139.41000507,\n",
       "       137.83000298, 142.69000357, 140.64000103, 143.55000084,\n",
       "       143.17999102, 144.7799968 , 142.10000324, 142.30000119,\n",
       "       138.22999608, 133.22000121, 133.61999431, 133.80000247,\n",
       "       137.27999891, 130.7499991 , 129.78999174, 128.72999653,\n",
       "       126.76999668, 127.82000117, 127.51000241, 126.11000014,\n",
       "       129.47999576, 129.82000839, 133.27000486, 136.44999605,\n",
       "       126.82000034, 128.55000227, 126.27999811, 123.52999999,\n",
       "       124.66000532, 122.19000322, 118.54000046, 117.30999894,\n",
       "       113.77999884, 115.15000254, 114.41000376, 118.01000286,\n",
       "       114.80000336, 112.99999964, 115.8799967 , 121.08999508,\n",
       "       120.94999707, 120.30000237, 114.55999805, 113.66999803,\n",
       "       112.2099986 , 112.90000206, 112.5299992 , 106.90000263,\n",
       "       113.79000069, 116.36000038, 115.0700003 , 115.25000012,\n",
       "       119.31999967, 119.82000008, 120.59999928, 115.66000341,\n",
       "       110.95999895, 103.41000365, 102.4400021 ,  96.79000116,\n",
       "        92.12000301,  89.30000302,  90.98000304,  90.52999899,\n",
       "        89.98000291,  86.13999884,  96.62999704, 100.79000101,\n",
       "        98.48999791,  98.94000197,  97.1200029 ,  94.84999805,\n",
       "        94.13999897,  92.45999904,  93.199997  ,  94.12999696,\n",
       "        93.410004  ,  93.94999701,  92.41999801,  96.54000095,\n",
       "        95.50000004,  94.12999696,  91.01000197,  88.24999993,\n",
       "        88.45999902,  90.34999813,  89.08999594,  90.55000302,\n",
       "        92.48999797,  91.58000208,  88.44999683,  87.86000102,\n",
       "        84.91999777,  85.19000167,  86.76999681,  83.79000078,\n",
       "        85.25000022,  83.04000085,  81.81999979,  84.17999969,\n",
       "        83.99999987,  85.82000033,  85.13999871,  83.12000309,\n",
       "        86.08000168,  87.3600013 ,  89.87000314,  95.08999606,\n",
       "        95.26999692,  98.12000304,  96.05000307,  95.45999893,\n",
       "        93.68      ,  97.25000011,  97.51999705,  96.32000002,\n",
       "        97.18000006,  99.22000076, 102.2399979 , 100.55000334,\n",
       "       103.12999722, 105.15000257, 112.9100039 , 103.38999927,\n",
       "       102.18000005, 102.11000105, 100.05000292,  98.23999805,\n",
       "        97.61000113,  99.54000066,  99.69999679, 101.16000387,\n",
       "        98.15000197,  97.19999715,  94.58000197,  95.79000102,\n",
       "        95.81999995,  93.5       ,  93.760002  ,  94.23000296,\n",
       "        92.16999798,  92.12999703,  94.90000205,  93.74999998,\n",
       "        93.55000299,  93.919998  ,  92.25000004,  90.73000301,\n",
       "        92.43000003,  94.87999697,  96.19999701, 100.04000108,\n",
       "        98.94999687,  97.70999906, 100.61000119,  98.69999701,\n",
       "        98.70999885,  98.12999689,  98.04000115,  97.23999792,\n",
       "       100.25000017, 102.00000023, 103.290001  , 102.41000421,\n",
       "       103.94999685, 101.09999768])"
      ]
     },
     "execution_count": 37,
     "metadata": {},
     "output_type": "execute_result"
    }
   ],
   "source": [
    "dummies = np.zeros((X_test.shape[0], lookback+1))\n",
    "dummies[:, 0] = y_test.flatten()\n",
    "dummies = scaler.inverse_transform(dummies)\n",
    "\n",
    "new_y_test = dc(dummies[:, 0])\n",
    "new_y_test"
   ]
  },
  {
   "cell_type": "code",
   "execution_count": 38,
   "id": "cab93241",
   "metadata": {},
   "outputs": [
    {
     "data": {
      "image/png": "[encoded data removed]",
      "text/plain": [
       "<Figure size 432x288 with 1 Axes>"
      ]
     },
     "metadata": {
      "needs_background": "light"
     },
     "output_type": "display_data"
    }
   ],
   "source": [
    "plt.plot(new_y_test, label='Actual Close')\n",
    "plt.plot(test_predictions, label='Predicted Close')\n",
    "plt.xlabel('Day')\n",
    "plt.ylabel('Close')\n",
    "plt.legend()\n",
    "plt.show()\n"
   ]
  },
  {
   "cell_type": "code",
   "execution_count": null,
   "id": "097fbc16",
   "metadata": {},
   "outputs": [],
   "source": []
  }
 ],
 "metadata": {
  "kernelspec": {
   "display_name": "Python 3 (ipykernel)",
   "language": "python",
   "name": "python3"
  },
  "language_info": {
   "codemirror_mode": {
    "name": "ipython",
    "version": 3
   },
   "file_extension": ".py",
   "mimetype": "text/x-python",
   "name": "python",
   "nbconvert_exporter": "python",
   "pygments_lexer": "ipython3",
   "version": "3.9.7"
  }
 },
 "nbformat": 4,
 "nbformat_minor": 5
}
