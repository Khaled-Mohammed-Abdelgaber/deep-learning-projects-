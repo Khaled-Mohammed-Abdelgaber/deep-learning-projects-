{
  "nbformat": 4,
  "nbformat_minor": 0,
  "metadata": {
    "colab": {
      "provenance": [],
      "authorship_tag": "ABX9TyPxYXXQ4X2coqYJvLJFzBUV",
      "include_colab_link": true
    },
    "kernelspec": {
      "name": "python3",
      "display_name": "Python 3"
    },
    "language_info": {
      "name": "python"
    }
  },
  "cells": [
    {
      "cell_type": "markdown",
      "metadata": {
        "id": "view-in-github",
        "colab_type": "text"
      },
      "source": [
        "<a href=\"https://colab.research.google.com/github/Khaled-Mohammed-Abdelgaber/deep-learning-projects-/blob/main/model_building_from_scratch_and_custom_training.ipynb\" target=\"_parent\"><img src=\"https://colab.research.google.com/assets/colab-badge.svg\" alt=\"Open In Colab\"/></a>"
      ]
    },
    {
      "cell_type": "code",
      "source": [
        "try :\n",
        "  %tensorflow_version 2.x\n",
        "except Exception:\n",
        "  pass\n",
        "\n",
        "import tensorflow as tf\n",
        "import numpy as np\n",
        "import matplotlib.pyplot as plt "
      ],
      "metadata": {
        "colab": {
          "base_uri": "https://localhost:8080/"
        },
        "id": "xgp5r07EQQcq",
        "outputId": "099ad289-d57e-480f-e7b0-9ddaef5e2e53"
      },
      "execution_count": 19,
      "outputs": [
        {
          "output_type": "stream",
          "name": "stdout",
          "text": [
            "Colab only includes TensorFlow 2.x; %tensorflow_version has no effect.\n"
          ]
        }
      ]
    },
    {
      "cell_type": "markdown",
      "source": [
        "#Creating Model class from scratch"
      ],
      "metadata": {
        "id": "xmFDPaf7XmcR"
      }
    },
    {
      "cell_type": "code",
      "source": [
        "class Model():\n",
        "  def __init__(self):\n",
        "    self.w = tf.Variable(2.0)\n",
        "    self.b = tf.Variable(1.0)\n",
        "  def __call__(self,x):\n",
        "    return self.w * x + self.b\n"
      ],
      "metadata": {
        "id": "uPP2-RO_XEWe"
      },
      "execution_count": 20,
      "outputs": []
    },
    {
      "cell_type": "code",
      "source": [
        "model = Model()"
      ],
      "metadata": {
        "id": "PAZgXge0XE0x"
      },
      "execution_count": 21,
      "outputs": []
    },
    {
      "cell_type": "code",
      "source": [
        "def loss(y_pred , y_true):\n",
        "  return tf.reduce_mean(tf.square(y_pred - y_true))"
      ],
      "metadata": {
        "id": "wX1IUp-eXE4D"
      },
      "execution_count": 22,
      "outputs": []
    },
    {
      "cell_type": "markdown",
      "source": [
        "#Training data"
      ],
      "metadata": {
        "id": "N66la1mvYRxM"
      }
    },
    {
      "cell_type": "code",
      "source": [
        "TRUE_W = 3.0\n",
        "TRUE_B = 2.0\n",
        "NUM_OF_EXAMPLES = 1000\n",
        "\n",
        "xs = tf.random.normal(shape = [NUM_OF_EXAMPLES])\n",
        "\n",
        "ys = TRUE_W * xs + TRUE_B"
      ],
      "metadata": {
        "id": "uUSmp3mhXxDL"
      },
      "execution_count": 23,
      "outputs": []
    },
    {
      "cell_type": "markdown",
      "source": [
        "# Definning Plotter"
      ],
      "metadata": {
        "id": "TB9CA-xBY3Ni"
      }
    },
    {
      "cell_type": "code",
      "source": [
        "def plot_data(inputs,outputs,predicted_outputs):\n",
        "  real = plt.scatter(inputs,outputs,c = 'b',marker = '.')\n",
        "  predicted = plt.scatter(inputs , predicted_outputs,c= 'r',marker = '+')\n",
        "  \n",
        "  plt.legend((real,predicted),(\"Real Data\" , \"Predicted Data\"))\n",
        "  plt.show()"
      ],
      "metadata": {
        "id": "6RK_uoVrYQ25"
      },
      "execution_count": 24,
      "outputs": []
    },
    {
      "cell_type": "code",
      "source": [
        "plot_data(xs,ys,model(xs))\n",
        "print('Current loss :%1.6f'%loss(model(xs),ys))"
      ],
      "metadata": {
        "colab": {
          "base_uri": "https://localhost:8080/",
          "height": 282
        },
        "id": "GHUYHebZYQ8m",
        "outputId": "c00683c0-a61f-48a9-e0ba-7973fb0f6eb6"
      },
      "execution_count": 25,
      "outputs": [
        {
          "output_type": "display_data",
          "data": {
            "text/plain": [
              "<Figure size 432x288 with 1 Axes>"
            ],
            "image/png": "[encoded data removed]"
          },
          "metadata": {
            "needs_background": "light"
          }
        },
        {
          "output_type": "stream",
          "name": "stdout",
          "text": [
            "Current loss :2.014741\n"
          ]
        }
      ]
    },
    {
      "cell_type": "markdown",
      "source": [
        "#define a training loop"
      ],
      "metadata": {
        "id": "FOI6Gkanbq7f"
      }
    },
    {
      "cell_type": "code",
      "source": [
        "def train(model , inputs , real_outputs,learning_rat):\n",
        "  with tf.GradientTape() as tap:\n",
        "    current_loss = loss(model(inputs) ,real_outputs)\n",
        "    gradient_w , gradient_b = tap.gradient(current_loss, [model.w, model.b])\n",
        "      \n",
        "  model.w.assign_sub(learning_rat * gradient_w)\n",
        "  model.b.assign_sub(learning_rat * gradient_b)\n",
        " \n",
        "  return current_loss"
      ],
      "metadata": {
        "id": "fBlaPg5abqTJ"
      },
      "execution_count": 28,
      "outputs": []
    },
    {
      "cell_type": "markdown",
      "source": [
        "#model training"
      ],
      "metadata": {
        "id": "Tk6AwtDKdp3z"
      }
    },
    {
      "cell_type": "code",
      "source": [
        "model = Model()\n",
        "epochs =  range(15)\n",
        "losses = []\n",
        "w_list , b_list = [] , []\n",
        "\n",
        "for i in (epochs):\n",
        "  current_losses = train(model,xs,ys,0.01)\n",
        "  losses.append(current_losses)\n",
        "  w_list.append(model.w.numpy())\n",
        "  b_list.append(model.b.numpy())\n",
        "  print(\"epochs %1.2f MSE = %1.2f w = %1.2f b = %1.2f\"%(i , losses[-1],w_list[-1],b_list[-1]))"
      ],
      "metadata": {
        "colab": {
          "base_uri": "https://localhost:8080/"
        },
        "id": "GU_V-OHKbx0w",
        "outputId": "fc0a3733-25d9-4d2e-a735-bedfe8483b13"
      },
      "execution_count": 42,
      "outputs": [
        {
          "output_type": "stream",
          "name": "stdout",
          "text": [
            "epochs 0.00 MSE = 2.01 w = 2.02 b = 1.02\n",
            "epochs 1.00 MSE = 1.93 w = 2.04 b = 1.04\n",
            "epochs 2.00 MSE = 1.86 w = 2.06 b = 1.06\n",
            "epochs 3.00 MSE = 1.78 w = 2.08 b = 1.08\n",
            "epochs 4.00 MSE = 1.71 w = 2.09 b = 1.10\n",
            "epochs 5.00 MSE = 1.64 w = 2.11 b = 1.12\n",
            "epochs 6.00 MSE = 1.58 w = 2.13 b = 1.14\n",
            "epochs 7.00 MSE = 1.51 w = 2.15 b = 1.15\n",
            "epochs 8.00 MSE = 1.45 w = 2.16 b = 1.17\n",
            "epochs 9.00 MSE = 1.40 w = 2.18 b = 1.19\n",
            "epochs 10.00 MSE = 1.34 w = 2.20 b = 1.21\n",
            "epochs 11.00 MSE = 1.29 w = 2.21 b = 1.22\n",
            "epochs 12.00 MSE = 1.24 w = 2.23 b = 1.24\n",
            "epochs 13.00 MSE = 1.19 w = 2.24 b = 1.25\n",
            "epochs 14.00 MSE = 1.14 w = 2.26 b = 1.27\n"
          ]
        }
      ]
    },
    {
      "cell_type": "code",
      "source": [
        "plot_data(xs,ys,model(xs))"
      ],
      "metadata": {
        "colab": {
          "base_uri": "https://localhost:8080/",
          "height": 265
        },
        "id": "GVj27gch2TVF",
        "outputId": "5f995bdb-66d4-41d2-a874-51b06f1b8cbe"
      },
      "execution_count": 43,
      "outputs": [
        {
          "output_type": "display_data",
          "data": {
            "text/plain": [
              "<Figure size 432x288 with 1 Axes>"
            ],
            "image/png": "[encoded data removed]"
          },
          "metadata": {
            "needs_background": "light"
          }
        }
      ]
    },
    {
      "cell_type": "code",
      "source": [
        "weights = plt.plot(epochs , list_w,'r',epochs , [TRUE_w]*len(epochs),'r--')\n",
        "bias = plt.plot(epochs , list_b,'b',epochs , [TRUE_B]*len(epochs),'b--')\n",
        "plt.legend([\"Weights\",\"True weights\",\"biases\",\"true biases\"])\n",
        "plt.show()"
      ],
      "metadata": {
        "colab": {
          "base_uri": "https://localhost:8080/",
          "height": 265
        },
        "id": "y27oG0140TfO",
        "outputId": "25f6e565-236c-478c-ddf8-155828840bc6"
      },
      "execution_count": 57,
      "outputs": [
        {
          "output_type": "display_data",
          "data": {
            "text/plain": [
              "<Figure size 432x288 with 1 Axes>"
            ],
            "image/png": "[encoded data removed]"
          },
          "metadata": {
            "needs_background": "light"
          }
        }
      ]
    },
    {
      "cell_type": "code",
      "source": [],
      "metadata": {
        "id": "3hEljMZC25PH"
      },
      "execution_count": null,
      "outputs": []
    },
    {
      "cell_type": "code",
      "source": [],
      "metadata": {
        "id": "zuhjU7IL4d5Y"
      },
      "execution_count": null,
      "outputs": []
    },
    {
      "cell_type": "code",
      "source": [],
      "metadata": {
        "id": "lYNgS6ut4d8D"
      },
      "execution_count": null,
      "outputs": []
    }
  ]
}