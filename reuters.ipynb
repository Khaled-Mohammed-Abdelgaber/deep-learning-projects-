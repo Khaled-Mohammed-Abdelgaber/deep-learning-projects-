{
  "nbformat": 4,
  "nbformat_minor": 0,
  "metadata": {
    "colab": {
      "provenance": [],
      "authorship_tag": "ABX9TyO47OUPoj28LG0npdMdJ307",
      "include_colab_link": true
    },
    "kernelspec": {
      "name": "python3",
      "display_name": "Python 3"
    },
    "language_info": {
      "name": "python"
    }
  },
  "cells": [
    {
      "cell_type": "markdown",
      "metadata": {
        "id": "view-in-github",
        "colab_type": "text"
      },
      "source": [
        "<a href=\"https://colab.research.google.com/github/Khaled-Mohammed-Abdelgaber/deep-learning-projects-/blob/main/reuters.ipynb\" target=\"_parent\"><img src=\"https://colab.research.google.com/assets/colab-badge.svg\" alt=\"Open In Colab\"/></a>"
      ]
    },
    {
      "cell_type": "code",
      "source": [
        "import numpy as np \n",
        "import matplotlib.pyplot as plt \n",
        "from keras import layers , models\n",
        "from tensorflow.keras import optimizers\n",
        "from keras.utils.np_utils import to_categorical\n",
        "from keras.layers import Dense\n",
        "from tensorflow.keras.losses import SparseCategoricalCrossentropy"
      ],
      "metadata": {
        "id": "mJl8sLtwuDOL"
      },
      "execution_count": 70,
      "outputs": []
    },
    {
      "cell_type": "code",
      "execution_count": 3,
      "metadata": {
        "colab": {
          "base_uri": "https://localhost:8080/"
        },
        "id": "7uFIU0o7oaMc",
        "outputId": "b0f22fe3-45e3-498f-ea6a-27402417e467"
      },
      "outputs": [
        {
          "output_type": "stream",
          "name": "stdout",
          "text": [
            "Downloading data from https://storage.googleapis.com/tensorflow/tf-keras-datasets/reuters.npz\n",
            "2113536/2110848 [==============================] - 0s 0us/step\n",
            "2121728/2110848 [==============================] - 0s 0us/step\n"
          ]
        }
      ],
      "source": [
        "from keras.datasets import reuters\n",
        "\n",
        "(train_data,train_labels),(test_data,test_labels) = reuters.load_data(num_words = 10000)"
      ]
    },
    {
      "cell_type": "code",
      "source": [
        "print(\"amount of train is {}\".format(len(train_data)))\n",
        "print(\"amount of test is {}\".format(len(test_data)))"
      ],
      "metadata": {
        "colab": {
          "base_uri": "https://localhost:8080/"
        },
        "id": "uAULu0UIppxI",
        "outputId": "a252dab3-0d77-418d-8709-ad5440d623f4"
      },
      "execution_count": 4,
      "outputs": [
        {
          "output_type": "stream",
          "name": "stdout",
          "text": [
            "amount of train is 8982\n",
            "amount of test is 2246\n"
          ]
        }
      ]
    },
    {
      "cell_type": "code",
      "source": [
        "#example from train data \n",
        "print(train_data[10])"
      ],
      "metadata": {
        "colab": {
          "base_uri": "https://localhost:8080/"
        },
        "id": "cKGu7XVVqEH7",
        "outputId": "cacb2ae7-669a-4333-8291-32432f288615"
      },
      "execution_count": 7,
      "outputs": [
        {
          "output_type": "stream",
          "name": "stdout",
          "text": [
            "[1, 245, 273, 207, 156, 53, 74, 160, 26, 14, 46, 296, 26, 39, 74, 2979, 3554, 14, 46, 4689, 4329, 86, 61, 3499, 4795, 14, 61, 451, 4329, 17, 12]\n"
          ]
        }
      ]
    },
    {
      "cell_type": "code",
      "source": [
        "word_indexes = reuters.get_word_index()\n",
        "reverse_word_indexes = dict([(value , key ) for (key , value ) in word_indexes.items()])\n"
      ],
      "metadata": {
        "id": "m9lSDeWIqKpF"
      },
      "execution_count": 10,
      "outputs": []
    },
    {
      "cell_type": "code",
      "source": [
        "decoded = ' '.join([reverse_word_indexes.get(i-3 , '?') for i in train_data[0]])\n",
        "print(decoded)"
      ],
      "metadata": {
        "colab": {
          "base_uri": "https://localhost:8080/"
        },
        "id": "Dcg2wXRJre75",
        "outputId": "e400d7b7-4fcd-4cf1-eda1-778f0f252765"
      },
      "execution_count": 16,
      "outputs": [
        {
          "output_type": "stream",
          "name": "stdout",
          "text": [
            "? ? ? said as a result of its december acquisition of space co it expects earnings per share in 1987 of 1 15 to 1 30 dlrs per share up from 70 cts in 1986 the company said pretax net should rise to nine to 10 mln dlrs from six mln dlrs in 1986 and rental operation revenues to 19 to 22 mln dlrs from 12 5 mln dlrs it said cash flow per share this year should be 2 50 to three dlrs reuter 3\n"
          ]
        }
      ]
    },
    {
      "cell_type": "code",
      "source": [
        "def vectorize_sequences(sequences , dim = 10000):\n",
        "  results = np.zeros((len(sequences), dim))\n",
        "  for i , sequence in enumerate(sequences):\n",
        "    results[i,sequence] = 1.\n",
        "  return results"
      ],
      "metadata": {
        "id": "FvDZJWBytaYS"
      },
      "execution_count": 19,
      "outputs": []
    },
    {
      "cell_type": "code",
      "source": [
        "x_train ,x_test = vectorize_sequences(train_data) , vectorize_sequences(test_data)"
      ],
      "metadata": {
        "id": "q0JniX2Wta6D"
      },
      "execution_count": 20,
      "outputs": []
    },
    {
      "cell_type": "code",
      "source": [
        "train_labels"
      ],
      "metadata": {
        "colab": {
          "base_uri": "https://localhost:8080/"
        },
        "id": "isGh1GP2vd1i",
        "outputId": "f6719413-c824-40bb-abfe-73a2a9d9c7f6"
      },
      "execution_count": 94,
      "outputs": [
        {
          "output_type": "execute_result",
          "data": {
            "text/plain": [
              "array([ 3,  4,  3, ..., 25,  3, 25])"
            ]
          },
          "metadata": {},
          "execution_count": 94
        }
      ]
    },
    {
      "cell_type": "code",
      "source": [
        "#one hot encoding or categorical encoding for labels\n",
        "def labels_coding(labels , dim = 46 ):\n",
        "  results = np.zeros((len(labels), dim))\n",
        "  for i, label in enumerate(labels):\n",
        "    results[i, label] = 1.\n",
        "  return results"
      ],
      "metadata": {
        "id": "4YBcN7etta9i"
      },
      "execution_count": 24,
      "outputs": []
    },
    {
      "cell_type": "code",
      "source": [
        "one_hot_train_labels = to_categorical(train_labels) # equivalent to labels_coding(train_labels)\n",
        "one_hot_test_labels = to_categorical(test_labels)\n"
      ],
      "metadata": {
        "id": "qN8R-4G2tbAv"
      },
      "execution_count": 26,
      "outputs": []
    },
    {
      "cell_type": "code",
      "source": [
        "\"\"\" you should avoid intermediate layers with many fewer than 46 hidden units.\n",
        "you introduce an information bottleneck by having intermediate layers\n",
        "that are significantly less than 46-dimensional \"\"\"\n",
        "\n",
        "model = models.Sequential()\n",
        "model.add(Dense(64 , activation =  \"relu\" ,input_shape = (10000,)))\n",
        "model.add(Dense(64,activation = 'relu'))\n",
        "model.add(Dense(46,activation = \"softmax\")) #softmax is suitable for categorical classification \n",
        "model.summary()"
      ],
      "metadata": {
        "colab": {
          "base_uri": "https://localhost:8080/"
        },
        "id": "UKC1d8-lwN19",
        "outputId": "d9cab31d-b93c-43f4-a49c-af7392c7319b"
      },
      "execution_count": 103,
      "outputs": [
        {
          "output_type": "stream",
          "name": "stdout",
          "text": [
            "Model: \"sequential_4\"\n",
            "_________________________________________________________________\n",
            " Layer (type)                Output Shape              Param #   \n",
            "=================================================================\n",
            " dense_12 (Dense)            (None, 64)                640064    \n",
            "                                                                 \n",
            " dense_13 (Dense)            (None, 64)                4160      \n",
            "                                                                 \n",
            " dense_14 (Dense)            (None, 46)                2990      \n",
            "                                                                 \n",
            "=================================================================\n",
            "Total params: 647,214\n",
            "Trainable params: 647,214\n",
            "Non-trainable params: 0\n",
            "_________________________________________________________________\n"
          ]
        }
      ]
    },
    {
      "cell_type": "code",
      "source": [
        "x_val = x_train[:1000]\n",
        "partial_x_train = x_train[1000:]\n",
        "y_val = one_hot_train_labels[:1000]\n",
        "partial_y_train = one_hot_train_labels[1000:]"
      ],
      "metadata": {
        "id": "Cow_NILr2-AJ"
      },
      "execution_count": 104,
      "outputs": []
    },
    {
      "cell_type": "code",
      "source": [
        "\"\"\"#for loss function there are two choice first is categorical_crossentropy and sparse_categorical_crossentropy\n",
        "   #the problem with categorical_crossentropy is that it expect integer values\n",
        "   #this problem solved in sparse_categorical_crossentorpy\n",
        "   #when we use sparse categorical cross entropy do not make hot encoding to the labels.\n",
        "   #just train model on integer form labels and sparse will do hot encoding by itself\"\"\"\n",
        "#model.compile(optimizer=\"rmsprop\", loss =\"sparse_categorical_crossentropy\",metrics = [\"accuracy\"]) # for sparse\n",
        "model.compile(optimizer=\"rmsprop\", loss =\"categorical_crossentropy\",metrics = [\"accuracy\"]) #for categorical"
      ],
      "metadata": {
        "id": "dZZYIQ_YwOyX"
      },
      "execution_count": 105,
      "outputs": []
    },
    {
      "cell_type": "code",
      "source": [
        "#history = model.fit(partial_x_train , train_labels[1000:], epochs = 20 , batch_size= 512 , validation_data=(x_val,train_labels[:1000])) #for spase\n",
        "history = model.fit(partial_x_train , partial_y_train, epochs = 5 , batch_size= 512 , validation_data=(x_val,y_val)) #for categorical\n"
      ],
      "metadata": {
        "colab": {
          "base_uri": "https://localhost:8080/"
        },
        "id": "2XbvBGiMwO1R",
        "outputId": "6866d548-9c82-4b1a-e406-6a966d6eee6d"
      },
      "execution_count": 106,
      "outputs": [
        {
          "output_type": "stream",
          "name": "stdout",
          "text": [
            "Epoch 1/5\n",
            "16/16 [==============================] - 1s 35ms/step - loss: 2.6086 - accuracy: 0.5143 - val_loss: 1.7131 - val_accuracy: 0.6200\n",
            "Epoch 2/5\n",
            "16/16 [==============================] - 0s 28ms/step - loss: 1.4109 - accuracy: 0.6922 - val_loss: 1.2981 - val_accuracy: 0.7140\n",
            "Epoch 3/5\n",
            "16/16 [==============================] - 0s 28ms/step - loss: 1.0542 - accuracy: 0.7662 - val_loss: 1.1317 - val_accuracy: 0.7480\n",
            "Epoch 4/5\n",
            "16/16 [==============================] - 0s 28ms/step - loss: 0.8252 - accuracy: 0.8234 - val_loss: 1.0291 - val_accuracy: 0.7750\n",
            "Epoch 5/5\n",
            "16/16 [==============================] - 0s 27ms/step - loss: 0.6534 - accuracy: 0.8659 - val_loss: 0.9490 - val_accuracy: 0.8070\n"
          ]
        }
      ]
    },
    {
      "cell_type": "code",
      "source": [
        "import matplotlib.pyplot as plt\n",
        "loss = history.history['loss']\n",
        "val_loss = history.history['val_loss']\n",
        "epochs = range(1, len(loss) + 1)\n",
        "plt.plot(epochs, loss, 'bo', label='Training loss')\n",
        "plt.plot(epochs, val_loss, 'b', label='Validation loss')\n",
        "plt.title('Training and validation loss')\n",
        "plt.xlabel('Epochs')\n",
        "plt.ylabel('Loss')\n",
        "plt.legend()\n",
        "plt.show()"
      ],
      "metadata": {
        "colab": {
          "base_uri": "https://localhost:8080/",
          "height": 295
        },
        "id": "vPgydqRlwO3q",
        "outputId": "6bd2bc5e-daf4-4b47-b4e6-723da6f22e70"
      },
      "execution_count": 107,
      "outputs": [
        {
          "output_type": "display_data",
          "data": {
            "text/plain": [
              "<Figure size 432x288 with 1 Axes>"
            ],
            "image/png": "[encoded data removed]"
          },
          "metadata": {
            "needs_background": "light"
          }
        }
      ]
    },
    {
      "cell_type": "code",
      "source": [
        "plt.clf()\n",
        "acc = history.history['accuracy']\n",
        "val_acc = history.history['val_accuracy']\n",
        "plt.plot(epochs, acc, 'bo', label='Training acc')\n",
        "plt.plot(epochs, val_acc, 'b', label='Validation acc')\n",
        "plt.title('Training and validation accuracy')\n",
        "plt.xlabel('Epochs')\n",
        "plt.ylabel('accuracy')\n",
        "plt.legend()\n",
        "plt.show()"
      ],
      "metadata": {
        "colab": {
          "base_uri": "https://localhost:8080/",
          "height": 295
        },
        "id": "QzFbJ6t-wOK3",
        "outputId": "16ccb8e9-dd4c-46a1-baf8-0c43933b67e2"
      },
      "execution_count": 108,
      "outputs": [
        {
          "output_type": "display_data",
          "data": {
            "text/plain": [
              "<Figure size 432x288 with 1 Axes>"
            ],
            "image/png": "[encoded data removed]"
          },
          "metadata": {
            "needs_background": "light"
          }
        }
      ]
    },
    {
      "cell_type": "code",
      "source": [
        "results = model.evaluate(x_test , one_hot_test_labels)\n",
        "\n",
        "results"
      ],
      "metadata": {
        "colab": {
          "base_uri": "https://localhost:8080/"
        },
        "id": "5lCByfhlwONu",
        "outputId": "dadeadb3-0a86-43a0-d26e-505eafc296b1"
      },
      "execution_count": 111,
      "outputs": [
        {
          "output_type": "stream",
          "name": "stdout",
          "text": [
            "71/71 [==============================] - 0s 2ms/step - loss: 1.0198 - accuracy: 0.7743\n"
          ]
        },
        {
          "output_type": "execute_result",
          "data": {
            "text/plain": [
              "[1.019839882850647, 0.7742653489112854]"
            ]
          },
          "metadata": {},
          "execution_count": 111
        }
      ]
    },
    {
      "cell_type": "code",
      "source": [
        "import copy\n",
        "test_labels_copy = copy.copy(test_labels)\n",
        "np.random.shuffle(test_labels_copy)\n",
        "hits_array = np.array(test_labels) == np.array(test_labels_copy)\n",
        "float(np.sum(hits_array)) / len(test_labels)\n"
      ],
      "metadata": {
        "colab": {
          "base_uri": "https://localhost:8080/"
        },
        "id": "eGEEb-Pb552z",
        "outputId": "19d6b98c-e867-4fb0-acf5-dd67d6277a26"
      },
      "execution_count": 65,
      "outputs": [
        {
          "output_type": "execute_result",
          "data": {
            "text/plain": [
              "0.1745325022261799"
            ]
          },
          "metadata": {},
          "execution_count": 65
        }
      ]
    },
    {
      "cell_type": "code",
      "source": [
        "predictions = model.predict(x_test)\n",
        "prediction = np.array(list(map(np.argmax,predictions)))"
      ],
      "metadata": {
        "id": "Vm4pcHQT6tAW"
      },
      "execution_count": 118,
      "outputs": []
    },
    {
      "cell_type": "code",
      "source": [
        "prediction"
      ],
      "metadata": {
        "colab": {
          "base_uri": "https://localhost:8080/"
        },
        "id": "5FPofiFf6wHm",
        "outputId": "e9469c1b-00d9-454d-d572-bf87edfaf3ed"
      },
      "execution_count": 119,
      "outputs": [
        {
          "output_type": "execute_result",
          "data": {
            "text/plain": [
              "array([ 3, 10,  1, ...,  3,  3,  1])"
            ]
          },
          "metadata": {},
          "execution_count": 119
        }
      ]
    }
  ]
}