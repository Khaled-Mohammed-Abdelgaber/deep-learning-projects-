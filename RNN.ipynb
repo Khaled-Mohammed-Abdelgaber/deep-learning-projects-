{
  "nbformat": 4,
  "nbformat_minor": 0,
  "metadata": {
    "colab": {
      "provenance": [],
      "authorship_tag": "ABX9TyNYcWloJwXUUEfhWOqB/hjg",
      "include_colab_link": true
    },
    "kernelspec": {
      "name": "python3",
      "display_name": "Python 3"
    },
    "language_info": {
      "name": "python"
    },
    "accelerator": "GPU",
    "gpuClass": "standard"
  },
  "cells": [
    {
      "cell_type": "markdown",
      "metadata": {
        "id": "view-in-github",
        "colab_type": "text"
      },
      "source": [
        "<a href=\"https://colab.research.google.com/github/Khaled-Mohammed-Abdelgaber/deep-learning-projects-/blob/main/RNN.ipynb\" target=\"_parent\"><img src=\"https://colab.research.google.com/assets/colab-badge.svg\" alt=\"Open In Colab\"/></a>"
      ]
    },
    {
      "cell_type": "markdown",
      "source": [
        "# RNN implementation usin numpy \n",
        "\n",
        "![image.png](data:image/png;base64,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)\n"
      ],
      "metadata": {
        "id": "_R07nWlQA9T1"
      }
    },
    {
      "cell_type": "markdown",
      "source": [
        "# Pseudocode of simple RNN\n",
        "```\n",
        "state_t = 0\n",
        "for input_t in input_sequence:\n",
        "  output_t = activation(dot(W, input_t) + dot(U, state_t) + b)\n",
        "  state_t = output_t\n",
        "```\n"
      ],
      "metadata": {
        "id": "Eak1rQfbalOf"
      }
    },
    {
      "cell_type": "code",
      "execution_count": 1,
      "metadata": {
        "id": "0E5Y-laOA4v7"
      },
      "outputs": [],
      "source": [
        "import numpy as np \n",
        "time_steps = 100 # number of data samples\n",
        "input_features = 32 # number of features of each input data sample \n",
        "output_features = 64 # number of features of each output data sample \n",
        "inputs = np.random.random((time_steps,input_features)) #all data samples\n",
        "#output = np.dot(w,input) + np.dot(u,state_t) + b\n",
        "state_t = np.zeros((output_features,)) # state_t represent the input to current output from previous output\n",
        "W = np.random.random((output_features, input_features))\n",
        "U = np.random.random((output_features, output_features))\n",
        "b = np.random.random((output_features,))\n",
        "successive_output = []  #where we will store outputs\n",
        "for input_t in inputs:\n",
        "  output_t = np.tanh(np.dot(W,input_t) + np.dot(U,state_t) + b)\n",
        "  state_t = output_t \n",
        "  successive_output.append(output_t)\n",
        "\n"
      ]
    },
    {
      "cell_type": "code",
      "source": [
        "final_output = np.concatenate([successive_output] , axis = 0) # successive_output is list of lists every list represent the output due to one input_sample\n",
        "# we want to make a np array each row represent the output due to input_t \n",
        "# so we use concatenate function "
      ],
      "metadata": {
        "id": "4qTSjGk-A8s8"
      },
      "execution_count": 2,
      "outputs": []
    },
    {
      "cell_type": "code",
      "source": [
        "final_output.shape"
      ],
      "metadata": {
        "colab": {
          "base_uri": "https://localhost:8080/"
        },
        "id": "08Jub6BREhVw",
        "outputId": "47d704cd-64e5-4a4e-98fa-95a2f0b02fc3"
      },
      "execution_count": 3,
      "outputs": [
        {
          "output_type": "execute_result",
          "data": {
            "text/plain": [
              "(100, 64)"
            ]
          },
          "metadata": {},
          "execution_count": 3
        }
      ]
    },
    {
      "cell_type": "markdown",
      "source": [
        "# A recurrent layer in Keras"
      ],
      "metadata": {
        "id": "CC4Ol3qEGHz8"
      }
    },
    {
      "cell_type": "code",
      "source": [
        "from keras.layers import SimpleRNN\n",
        "from keras.models import Sequential\n",
        "from keras.layers import Embedding , Dense"
      ],
      "metadata": {
        "id": "p6bu31SyGHWZ"
      },
      "execution_count": 4,
      "outputs": []
    },
    {
      "cell_type": "code",
      "source": [
        "model = Sequential()\n",
        "model.add(Embedding(10000,32))\n",
        "model.add(SimpleRNN(32))#returns only the output at the last timestep:\n",
        "model.summary()"
      ],
      "metadata": {
        "colab": {
          "base_uri": "https://localhost:8080/"
        },
        "id": "mZpZl3gIFU67",
        "outputId": "d3cf93a1-ccbf-46f9-a882-afebba4877f6"
      },
      "execution_count": 5,
      "outputs": [
        {
          "output_type": "stream",
          "name": "stdout",
          "text": [
            "Model: \"sequential\"\n",
            "_________________________________________________________________\n",
            " Layer (type)                Output Shape              Param #   \n",
            "=================================================================\n",
            " embedding (Embedding)       (None, None, 32)          320000    \n",
            "                                                                 \n",
            " simple_rnn (SimpleRNN)      (None, 32)                2080      \n",
            "                                                                 \n",
            "=================================================================\n",
            "Total params: 322,080\n",
            "Trainable params: 322,080\n",
            "Non-trainable params: 0\n",
            "_________________________________________________________________\n"
          ]
        }
      ]
    },
    {
      "cell_type": "code",
      "source": [
        "model = Sequential()\n",
        "model.add(Embedding(10000,32))\n",
        "model.add(SimpleRNN(32,return_sequences=True))#returns the full state sequence\n",
        "model.summary()"
      ],
      "metadata": {
        "colab": {
          "base_uri": "https://localhost:8080/"
        },
        "id": "wfPbxEcyFmoV",
        "outputId": "4c8f2824-3bb1-4cf1-e431-2e9a75b79ff1"
      },
      "execution_count": 6,
      "outputs": [
        {
          "output_type": "stream",
          "name": "stdout",
          "text": [
            "Model: \"sequential_1\"\n",
            "_________________________________________________________________\n",
            " Layer (type)                Output Shape              Param #   \n",
            "=================================================================\n",
            " embedding_1 (Embedding)     (None, None, 32)          320000    \n",
            "                                                                 \n",
            " simple_rnn_1 (SimpleRNN)    (None, None, 32)          2080      \n",
            "                                                                 \n",
            "=================================================================\n",
            "Total params: 322,080\n",
            "Trainable params: 322,080\n",
            "Non-trainable params: 0\n",
            "_________________________________________________________________\n"
          ]
        }
      ]
    },
    {
      "cell_type": "markdown",
      "source": [
        "# example on idbm datasets "
      ],
      "metadata": {
        "id": "CWtDBKw9Q2E7"
      }
    },
    {
      "cell_type": "code",
      "source": [
        "from keras.datasets import imdb \n",
        "from keras.preprocessing import sequence\n",
        "max_features = 10000 # number of word consider to be features\n",
        "max_len = 500 #Cuts off texts after this many words (among the max_features most common words)\n",
        "batch_size = 32\n",
        "print(\"loading data ...\")\n",
        "(input_train , y_train) , (input_test , y_test) = imdb.load_data(num_words=max_features) "
      ],
      "metadata": {
        "colab": {
          "base_uri": "https://localhost:8080/"
        },
        "id": "X4BS3UXiOZs4",
        "outputId": "9e188ac2-26c3-4832-f53a-98ebdb0674c2"
      },
      "execution_count": 7,
      "outputs": [
        {
          "output_type": "stream",
          "name": "stdout",
          "text": [
            "loading data ...\n",
            "Downloading data from https://storage.googleapis.com/tensorflow/tf-keras-datasets/imdb.npz\n",
            "17465344/17464789 [==============================] - 0s 0us/step\n",
            "17473536/17464789 [==============================] - 0s 0us/step\n"
          ]
        }
      ]
    },
    {
      "cell_type": "code",
      "source": [
        "print(len(input_train), 'train sequences')\n",
        "print(len(input_test), 'test sequences')"
      ],
      "metadata": {
        "colab": {
          "base_uri": "https://localhost:8080/"
        },
        "id": "pxeYNeZ6Qz-V",
        "outputId": "7b68ad23-323d-46f4-82b7-0154a587a0d7"
      },
      "execution_count": 8,
      "outputs": [
        {
          "output_type": "stream",
          "name": "stdout",
          "text": [
            "25000 train sequences\n",
            "25000 test sequences\n"
          ]
        }
      ]
    },
    {
      "cell_type": "code",
      "source": [
        "print('Pad sequences (samples x time)')\n",
        "input_train = sequence.pad_sequences(input_train , maxlen=max_len)\n",
        "input_test = sequence.pad_sequences(input_test , maxlen=max_len)"
      ],
      "metadata": {
        "colab": {
          "base_uri": "https://localhost:8080/"
        },
        "id": "GtveGTziifN6",
        "outputId": "7c7ae6bc-771d-41f3-cbc7-d4a85c083c11"
      },
      "execution_count": 9,
      "outputs": [
        {
          "output_type": "stream",
          "name": "stdout",
          "text": [
            "Pad sequences (samples x time)\n"
          ]
        }
      ]
    },
    {
      "cell_type": "code",
      "source": [
        "print('input_train shape:', input_train.shape)\n",
        "print('input_test shape:', input_test.shape)"
      ],
      "metadata": {
        "colab": {
          "base_uri": "https://localhost:8080/"
        },
        "id": "8-n1dzJGiS9B",
        "outputId": "852f5967-037b-49e6-9c22-64da4379a0bc"
      },
      "execution_count": 10,
      "outputs": [
        {
          "output_type": "stream",
          "name": "stdout",
          "text": [
            "input_train shape: (25000, 500)\n",
            "input_test shape: (25000, 500)\n"
          ]
        }
      ]
    },
    {
      "cell_type": "markdown",
      "source": [
        "#Training the model with Embedding and SimpleRNN layers"
      ],
      "metadata": {
        "id": "u1z0vvf3kRpn"
      }
    },
    {
      "cell_type": "code",
      "source": [
        "model = Sequential()\n",
        "model.add(Embedding(max_features,32))\n",
        "model.add(SimpleRNN(32))\n",
        "model.add(Dense(1,activation = 'sigmoid'))\n",
        "model.summary()"
      ],
      "metadata": {
        "colab": {
          "base_uri": "https://localhost:8080/"
        },
        "id": "LXiKWe6ViTGx",
        "outputId": "beef8d67-51ae-4305-8c33-1b274e28da33"
      },
      "execution_count": 11,
      "outputs": [
        {
          "output_type": "stream",
          "name": "stdout",
          "text": [
            "Model: \"sequential_2\"\n",
            "_________________________________________________________________\n",
            " Layer (type)                Output Shape              Param #   \n",
            "=================================================================\n",
            " embedding_2 (Embedding)     (None, None, 32)          320000    \n",
            "                                                                 \n",
            " simple_rnn_2 (SimpleRNN)    (None, 32)                2080      \n",
            "                                                                 \n",
            " dense (Dense)               (None, 1)                 33        \n",
            "                                                                 \n",
            "=================================================================\n",
            "Total params: 322,113\n",
            "Trainable params: 322,113\n",
            "Non-trainable params: 0\n",
            "_________________________________________________________________\n"
          ]
        }
      ]
    },
    {
      "cell_type": "code",
      "source": [
        "model.compile(optimizer = 'rmsprop',loss='binary_crossentropy',metrics = ['accuracy'])"
      ],
      "metadata": {
        "id": "2LoMx10Cje1j"
      },
      "execution_count": 12,
      "outputs": []
    },
    {
      "cell_type": "code",
      "source": [
        "history = model.fit(input_train , y_train , batch_size=128 , epochs = 2,validation_split=0.2)"
      ],
      "metadata": {
        "colab": {
          "base_uri": "https://localhost:8080/"
        },
        "id": "m3U5HyaSjxb7",
        "outputId": "c0ab02be-9918-4546-b2fb-1f0efdcb8cef"
      },
      "execution_count": 13,
      "outputs": [
        {
          "output_type": "stream",
          "name": "stdout",
          "text": [
            "Epoch 1/2\n",
            "157/157 [==============================] - 85s 486ms/step - loss: 0.6653 - accuracy: 0.5870 - val_loss: 0.5785 - val_accuracy: 0.7158\n",
            "Epoch 2/2\n",
            "157/157 [==============================] - 75s 477ms/step - loss: 0.4320 - accuracy: 0.8101 - val_loss: 0.3790 - val_accuracy: 0.8410\n"
          ]
        }
      ]
    },
    {
      "cell_type": "code",
      "source": [
        "history.history.keys()"
      ],
      "metadata": {
        "colab": {
          "base_uri": "https://localhost:8080/"
        },
        "id": "zyfzK4I0kfoq",
        "outputId": "891365d4-ae8a-43d9-bff2-3b6a59fa165e"
      },
      "execution_count": 14,
      "outputs": [
        {
          "output_type": "execute_result",
          "data": {
            "text/plain": [
              "dict_keys(['loss', 'accuracy', 'val_loss', 'val_accuracy'])"
            ]
          },
          "metadata": {},
          "execution_count": 14
        }
      ]
    },
    {
      "cell_type": "markdown",
      "source": [
        "#Plotting results"
      ],
      "metadata": {
        "id": "Ip25Z4bKkT6f"
      }
    },
    {
      "cell_type": "code",
      "source": [
        "import matplotlib.pyplot as plt\n",
        "acc = history.history['accuracy']\n",
        "val_acc = history.history['val_accuracy']\n",
        "loss = history.history['loss']\n",
        "val_loss = history.history['val_loss']\n",
        "epochs = range(1, len(acc) + 1)\n",
        "plt.plot(epochs, acc, 'bo', label='Training acc')\n",
        "plt.plot(epochs, val_acc, 'b', label='Validation acc')\n",
        "plt.title('Training and validation accuracy')\n",
        "plt.legend()\n",
        "plt.figure()\n",
        "plt.plot(epochs, loss, 'bo', label='Training loss')\n",
        "plt.plot(epochs, val_loss, 'b', label='Validation loss')\n",
        "plt.title('Training and validation loss')\n",
        "plt.legend()\n",
        "plt.show()"
      ],
      "metadata": {
        "colab": {
          "base_uri": "https://localhost:8080/",
          "height": 545
        },
        "id": "qEG1JyISjxfi",
        "outputId": "ddba5075-861d-4e73-cec2-7f34c2a189c5"
      },
      "execution_count": 15,
      "outputs": [
        {
          "output_type": "display_data",
          "data": {
            "text/plain": [
              "<Figure size 432x288 with 1 Axes>"
            ],
            "image/png": "[encoded data removed]"
          },
          "metadata": {
            "needs_background": "light"
          }
        },
        {
          "output_type": "display_data",
          "data": {
            "text/plain": [
              "<Figure size 432x288 with 1 Axes>"
            ],
            "image/png": "[encoded data removed]"
          },
          "metadata": {
            "needs_background": "light"
          }
        }
      ]
    },
    {
      "cell_type": "code",
      "source": [
        "model.evaluate(input_test , y_test)"
      ],
      "metadata": {
        "colab": {
          "base_uri": "https://localhost:8080/"
        },
        "id": "QnYJJIRPkYR4",
        "outputId": "60712811-aaae-4c0c-b143-de491b80c516"
      },
      "execution_count": 16,
      "outputs": [
        {
          "output_type": "stream",
          "name": "stdout",
          "text": [
            "782/782 [==============================] - 29s 37ms/step - loss: 0.3790 - accuracy: 0.8407\n"
          ]
        },
        {
          "output_type": "execute_result",
          "data": {
            "text/plain": [
              "[0.37896794080734253, 0.840719997882843]"
            ]
          },
          "metadata": {},
          "execution_count": 16
        }
      ]
    },
    {
      "cell_type": "markdown",
      "source": [
        "#LSTM and GRU\n",
        "![image.png](data:image/png;base64,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)"
      ],
      "metadata": {
        "id": "A4PKTtocnDGJ"
      }
    },
    {
      "cell_type": "markdown",
      "source": [
        "#Pseudocode for LSTM\n",
        "```\n",
        "output_t = activation(dot(state_t, Uo) + dot(input_t, Wo) + dot(C_t, Vo) + bo)\n",
        "state_t = output_t-1\n",
        "i_t = activation(dot(state_t, Ui) + dot(input_t, Wi) + bi)\n",
        "f_t = activation(dot(state_t, Uf) + dot(input_t, Wf) + bf) \n",
        "k_t = activation(dot(state_t, Uk) + dot(input_t, Wk) + bk)\n",
        "c_t+1 = i_t * k_t + c_t * f_t\n",
        "\n",
        "```"
      ],
      "metadata": {
        "id": "N9Y81GO1bNEI"
      }
    },
    {
      "cell_type": "code",
      "source": [
        "from keras.layers import Embedding , Dense ,LSTM \n",
        "model = Sequential()\n",
        "model.add(Embedding(max_features,32))\n",
        "model.add(LSTM(32))\n",
        "model.add(Dense(1,activation = 'sigmoid'))\n",
        "model.summary()"
      ],
      "metadata": {
        "colab": {
          "base_uri": "https://localhost:8080/"
        },
        "id": "W9GL1OSlkYU6",
        "outputId": "36a4ca8f-e804-4cac-c908-552eac52f80b"
      },
      "execution_count": 17,
      "outputs": [
        {
          "output_type": "stream",
          "name": "stdout",
          "text": [
            "Model: \"sequential_3\"\n",
            "_________________________________________________________________\n",
            " Layer (type)                Output Shape              Param #   \n",
            "=================================================================\n",
            " embedding_3 (Embedding)     (None, None, 32)          320000    \n",
            "                                                                 \n",
            " lstm (LSTM)                 (None, 32)                8320      \n",
            "                                                                 \n",
            " dense_1 (Dense)             (None, 1)                 33        \n",
            "                                                                 \n",
            "=================================================================\n",
            "Total params: 328,353\n",
            "Trainable params: 328,353\n",
            "Non-trainable params: 0\n",
            "_________________________________________________________________\n"
          ]
        }
      ]
    },
    {
      "cell_type": "code",
      "source": [
        "model.compile(optimizer = 'rmsprop',loss='binary_crossentropy',metrics = ['accuracy'])"
      ],
      "metadata": {
        "id": "rHyU55pnnHjn"
      },
      "execution_count": 18,
      "outputs": []
    },
    {
      "cell_type": "code",
      "source": [
        "history = model.fit(input_train , y_train , batch_size=128 , epochs = 10,validation_split=0.2)"
      ],
      "metadata": {
        "colab": {
          "base_uri": "https://localhost:8080/"
        },
        "id": "03H5uFPGnHne",
        "outputId": "cc8c7532-390e-4f9b-9f6c-906236e986d1"
      },
      "execution_count": 28,
      "outputs": [
        {
          "output_type": "stream",
          "name": "stdout",
          "text": [
            "Epoch 1/10\n",
            "157/157 [==============================] - 3s 21ms/step - loss: 0.0650 - accuracy: 0.9781 - val_loss: 0.4691 - val_accuracy: 0.8746\n",
            "Epoch 2/10\n",
            "157/157 [==============================] - 3s 20ms/step - loss: 0.0599 - accuracy: 0.9804 - val_loss: 0.4438 - val_accuracy: 0.8654\n",
            "Epoch 3/10\n",
            "157/157 [==============================] - 3s 20ms/step - loss: 0.0566 - accuracy: 0.9818 - val_loss: 0.5306 - val_accuracy: 0.8686\n",
            "Epoch 4/10\n",
            "157/157 [==============================] - 3s 20ms/step - loss: 0.0530 - accuracy: 0.9826 - val_loss: 0.4976 - val_accuracy: 0.8548\n",
            "Epoch 5/10\n",
            "157/157 [==============================] - 3s 20ms/step - loss: 0.0536 - accuracy: 0.9841 - val_loss: 0.4575 - val_accuracy: 0.8584\n",
            "Epoch 6/10\n",
            "157/157 [==============================] - 3s 20ms/step - loss: 0.0485 - accuracy: 0.9850 - val_loss: 0.9435 - val_accuracy: 0.7988\n",
            "Epoch 7/10\n",
            "157/157 [==============================] - 3s 20ms/step - loss: 0.0489 - accuracy: 0.9853 - val_loss: 0.5027 - val_accuracy: 0.8692\n",
            "Epoch 8/10\n",
            "157/157 [==============================] - 3s 20ms/step - loss: 0.0505 - accuracy: 0.9863 - val_loss: 0.5094 - val_accuracy: 0.8674\n",
            "Epoch 9/10\n",
            "157/157 [==============================] - 3s 20ms/step - loss: 0.0385 - accuracy: 0.9885 - val_loss: 0.6112 - val_accuracy: 0.8678\n",
            "Epoch 10/10\n",
            "157/157 [==============================] - 3s 20ms/step - loss: 0.0403 - accuracy: 0.9880 - val_loss: 0.6110 - val_accuracy: 0.8652\n"
          ]
        }
      ]
    },
    {
      "cell_type": "code",
      "source": [
        "acc = history.history['accuracy']\n",
        "val_acc = history.history['val_accuracy']\n",
        "loss = history.history['loss']\n",
        "val_loss = history.history['val_loss']\n",
        "epochs = range(1, len(acc) + 1)\n",
        "plt.plot(epochs, acc, 'bo', label='Training acc')\n",
        "plt.plot(epochs, val_acc, 'b', label='Validation acc')\n",
        "plt.title('Training and validation accuracy')\n",
        "plt.legend()\n",
        "plt.figure()\n",
        "plt.plot(epochs, loss, 'bo', label='Training loss')\n",
        "plt.plot(epochs, val_loss, 'b', label='Validation loss')\n",
        "plt.title('Training and validation loss')\n",
        "plt.legend()\n",
        "plt.show()"
      ],
      "metadata": {
        "colab": {
          "base_uri": "https://localhost:8080/",
          "height": 545
        },
        "id": "epVdeGcinHrX",
        "outputId": "b48d2aa5-9853-4608-f398-2fa8d3f7f32e"
      },
      "execution_count": 29,
      "outputs": [
        {
          "output_type": "display_data",
          "data": {
            "text/plain": [
              "<Figure size 432x288 with 1 Axes>"
            ],
            "image/png": "[encoded data removed]"
          },
          "metadata": {
            "needs_background": "light"
          }
        },
        {
          "output_type": "display_data",
          "data": {
            "text/plain": [
              "<Figure size 432x288 with 1 Axes>"
            ],
            "image/png": "[encoded data removed]"
          },
          "metadata": {
            "needs_background": "light"
          }
        }
      ]
    },
    {
      "cell_type": "code",
      "source": [
        "model.evaluate(input_test , y_test)"
      ],
      "metadata": {
        "colab": {
          "base_uri": "https://localhost:8080/"
        },
        "id": "T5HkXolHkYYj",
        "outputId": "7f38da04-4d50-4b1a-f362-395036a3960d"
      },
      "execution_count": 30,
      "outputs": [
        {
          "output_type": "stream",
          "name": "stdout",
          "text": [
            "782/782 [==============================] - 6s 8ms/step - loss: 0.6997 - accuracy: 0.8445\n"
          ]
        },
        {
          "output_type": "execute_result",
          "data": {
            "text/plain": [
              "[0.6997365355491638, 0.8445199728012085]"
            ]
          },
          "metadata": {},
          "execution_count": 30
        }
      ]
    }
  ]
}