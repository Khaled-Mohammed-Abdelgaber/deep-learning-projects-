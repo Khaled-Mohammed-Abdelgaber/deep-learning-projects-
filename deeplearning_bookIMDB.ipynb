{
  "nbformat": 4,
  "nbformat_minor": 0,
  "metadata": {
    "colab": {
      "provenance": [],
      "authorship_tag": "ABX9TyMkQk2Rz+363PNhOLGMhpW8",
      "include_colab_link": true
    },
    "kernelspec": {
      "name": "python3",
      "display_name": "Python 3"
    },
    "language_info": {
      "name": "python"
    }
  },
  "cells": [
    {
      "cell_type": "markdown",
      "metadata": {
        "id": "view-in-github",
        "colab_type": "text"
      },
      "source": [
        "<a href=\"https://colab.research.google.com/github/Khaled-Mohammed-Abdelgaber/deep-learning-projects-/blob/main/deeplearning_bookIMDB.ipynb\" target=\"_parent\"><img src=\"https://colab.research.google.com/assets/colab-badge.svg\" alt=\"Open In Colab\"/></a>"
      ]
    },
    {
      "cell_type": "code",
      "source": [
        "from keras.datasets import imdb\n",
        "from keras import layers , models\n",
        "from tensorflow.keras import optimizers"
      ],
      "metadata": {
        "id": "l8zksB9M__Bc"
      },
      "execution_count": 1,
      "outputs": []
    },
    {
      "cell_type": "code",
      "source": [
        "(train_data,train_labels) , (test_data,test_labels) = imdb.load_data(num_words = 10000)\n",
        "train_data[0]"
      ],
      "metadata": {
        "id": "pJLD8eyTXmkU",
        "outputId": "a37815f6-76d5-4e78-e937-c6f56e24a490",
        "colab": {
          "base_uri": "https://localhost:8080/"
        }
      },
      "execution_count": 2,
      "outputs": [
        {
          "output_type": "stream",
          "name": "stdout",
          "text": [
            "Downloading data from https://storage.googleapis.com/tensorflow/tf-keras-datasets/imdb.npz\n",
            "17465344/17464789 [==============================] - 0s 0us/step\n",
            "17473536/17464789 [==============================] - 0s 0us/step\n"
          ]
        },
        {
          "output_type": "execute_result",
          "data": {
            "text/plain": [
              "[1,\n",
              " 14,\n",
              " 22,\n",
              " 16,\n",
              " 43,\n",
              " 530,\n",
              " 973,\n",
              " 1622,\n",
              " 1385,\n",
              " 65,\n",
              " 458,\n",
              " 4468,\n",
              " 66,\n",
              " 3941,\n",
              " 4,\n",
              " 173,\n",
              " 36,\n",
              " 256,\n",
              " 5,\n",
              " 25,\n",
              " 100,\n",
              " 43,\n",
              " 838,\n",
              " 112,\n",
              " 50,\n",
              " 670,\n",
              " 2,\n",
              " 9,\n",
              " 35,\n",
              " 480,\n",
              " 284,\n",
              " 5,\n",
              " 150,\n",
              " 4,\n",
              " 172,\n",
              " 112,\n",
              " 167,\n",
              " 2,\n",
              " 336,\n",
              " 385,\n",
              " 39,\n",
              " 4,\n",
              " 172,\n",
              " 4536,\n",
              " 1111,\n",
              " 17,\n",
              " 546,\n",
              " 38,\n",
              " 13,\n",
              " 447,\n",
              " 4,\n",
              " 192,\n",
              " 50,\n",
              " 16,\n",
              " 6,\n",
              " 147,\n",
              " 2025,\n",
              " 19,\n",
              " 14,\n",
              " 22,\n",
              " 4,\n",
              " 1920,\n",
              " 4613,\n",
              " 469,\n",
              " 4,\n",
              " 22,\n",
              " 71,\n",
              " 87,\n",
              " 12,\n",
              " 16,\n",
              " 43,\n",
              " 530,\n",
              " 38,\n",
              " 76,\n",
              " 15,\n",
              " 13,\n",
              " 1247,\n",
              " 4,\n",
              " 22,\n",
              " 17,\n",
              " 515,\n",
              " 17,\n",
              " 12,\n",
              " 16,\n",
              " 626,\n",
              " 18,\n",
              " 2,\n",
              " 5,\n",
              " 62,\n",
              " 386,\n",
              " 12,\n",
              " 8,\n",
              " 316,\n",
              " 8,\n",
              " 106,\n",
              " 5,\n",
              " 4,\n",
              " 2223,\n",
              " 5244,\n",
              " 16,\n",
              " 480,\n",
              " 66,\n",
              " 3785,\n",
              " 33,\n",
              " 4,\n",
              " 130,\n",
              " 12,\n",
              " 16,\n",
              " 38,\n",
              " 619,\n",
              " 5,\n",
              " 25,\n",
              " 124,\n",
              " 51,\n",
              " 36,\n",
              " 135,\n",
              " 48,\n",
              " 25,\n",
              " 1415,\n",
              " 33,\n",
              " 6,\n",
              " 22,\n",
              " 12,\n",
              " 215,\n",
              " 28,\n",
              " 77,\n",
              " 52,\n",
              " 5,\n",
              " 14,\n",
              " 407,\n",
              " 16,\n",
              " 82,\n",
              " 2,\n",
              " 8,\n",
              " 4,\n",
              " 107,\n",
              " 117,\n",
              " 5952,\n",
              " 15,\n",
              " 256,\n",
              " 4,\n",
              " 2,\n",
              " 7,\n",
              " 3766,\n",
              " 5,\n",
              " 723,\n",
              " 36,\n",
              " 71,\n",
              " 43,\n",
              " 530,\n",
              " 476,\n",
              " 26,\n",
              " 400,\n",
              " 317,\n",
              " 46,\n",
              " 7,\n",
              " 4,\n",
              " 2,\n",
              " 1029,\n",
              " 13,\n",
              " 104,\n",
              " 88,\n",
              " 4,\n",
              " 381,\n",
              " 15,\n",
              " 297,\n",
              " 98,\n",
              " 32,\n",
              " 2071,\n",
              " 56,\n",
              " 26,\n",
              " 141,\n",
              " 6,\n",
              " 194,\n",
              " 7486,\n",
              " 18,\n",
              " 4,\n",
              " 226,\n",
              " 22,\n",
              " 21,\n",
              " 134,\n",
              " 476,\n",
              " 26,\n",
              " 480,\n",
              " 5,\n",
              " 144,\n",
              " 30,\n",
              " 5535,\n",
              " 18,\n",
              " 51,\n",
              " 36,\n",
              " 28,\n",
              " 224,\n",
              " 92,\n",
              " 25,\n",
              " 104,\n",
              " 4,\n",
              " 226,\n",
              " 65,\n",
              " 16,\n",
              " 38,\n",
              " 1334,\n",
              " 88,\n",
              " 12,\n",
              " 16,\n",
              " 283,\n",
              " 5,\n",
              " 16,\n",
              " 4472,\n",
              " 113,\n",
              " 103,\n",
              " 32,\n",
              " 15,\n",
              " 16,\n",
              " 5345,\n",
              " 19,\n",
              " 178,\n",
              " 32]"
            ]
          },
          "metadata": {},
          "execution_count": 2
        }
      ]
    },
    {
      "cell_type": "code",
      "source": [
        "word_index = imdb.get_word_index()"
      ],
      "metadata": {
        "id": "wRfxZS5xWzSZ",
        "outputId": "33ea763e-9b16-47ca-c623-efd719386800",
        "colab": {
          "base_uri": "https://localhost:8080/"
        }
      },
      "execution_count": 3,
      "outputs": [
        {
          "output_type": "stream",
          "name": "stdout",
          "text": [
            "Downloading data from https://storage.googleapis.com/tensorflow/tf-keras-datasets/imdb_word_index.json\n",
            "1646592/1641221 [==============================] - 0s 0us/step\n",
            "1654784/1641221 [==============================] - 0s 0us/step\n"
          ]
        }
      ]
    },
    {
      "cell_type": "code",
      "source": [
        "#imdb.get_word_index() The word index dictionary. Keys are word strings, values are their index.\n",
        "word_index = imdb.get_word_index() #word_index is a dictionary\n",
        "\n",
        "#word_index.items() ==> returns a list each element is tuple first element is key and second element is value\n",
        "#list comperhensive to reverse the places [indexes] of tuple elements(key and value)\n",
        "#then convert it to dictionary\n",
        "#reverse_word_index is a dictionary exactly like word_index but key and value are reversed\n",
        "reverse_word_index = dict([(value, key) for (key, value) in word_index.items()]) \n",
        "\n",
        "#.get function used with dictionary and take key as a first element and return the value specified with this key \n",
        "#.get take optional parameter in our case is \"?\" which is returned if key is not found in dictionary keys\n",
        "#train_data[0] is a list of numbers that are just indexes of words that represent comment of first sample\n",
        "#decoded_review is just the comment of first sample in string form\n",
        "#train_data[0] is just the comment of first sample in term of indexes of words in that comment\n",
        "decoded_review = ' '.join([reverse_word_index.get(i - 3, '?') for i in train_data[0]])"
      ],
      "metadata": {
        "id": "JuUbwBvgXmnP"
      },
      "execution_count": 4,
      "outputs": []
    },
    {
      "cell_type": "code",
      "source": [
        "print(\"train_data shape is \",train_data.shape)\n",
        "print(\"test_data shape is \",test_data.shape)\n",
        "print(\"train_labels shape is \",train_labels.shape)\n",
        "print(\"test shape is \",test_labels.shape)"
      ],
      "metadata": {
        "colab": {
          "base_uri": "https://localhost:8080/"
        },
        "id": "n3EWJF_xvq1s",
        "outputId": "0f88d255-a7a5-4ec5-d4bb-8f962dc94eb2"
      },
      "execution_count": 5,
      "outputs": [
        {
          "output_type": "stream",
          "name": "stdout",
          "text": [
            "train_data shape is  (25000,)\n",
            "test_data shape is  (25000,)\n",
            "train_labels shape is  (25000,)\n",
            "test shape is  (25000,)\n"
          ]
        }
      ]
    },
    {
      "cell_type": "code",
      "source": [
        "#up to now the train data and test data are in form of list of integers\n",
        "#neural network can not deal with lists\n",
        "#we want to convert it to tensors \n",
        "#this can be done by two way first by\n",
        "#[1]-pading lists to be in form of list tensor shape will be (num_samples,word_indexes) \n",
        "#note that train_data[i] not fixed length it depend on the index so we need to pade small samples to biger on \n",
        "#[2]-by hot encoding of all samples to a fixed length (10000)[that equal to the number of words we have chosen in cell 2 first line]\n",
        "#this will return tensor dimension [num_samples,10000]\n",
        "#this can be done by following function \n",
        "\n",
        "import numpy as np\n",
        "def vectorize_sequences(sequences, dimension=10000):\n",
        "  \"\"\"\n",
        "  this functoin take two parameters \n",
        "  first one is sequences such as train_data or test_data\n",
        "  second one is dimention we need to add \n",
        "  returns a results its dimention is [len(sequences),dimention]\n",
        "  \"\"\"\n",
        "  results = np.zeros((len(sequences), dimension))\n",
        "  for i, sequence in enumerate(sequences): # i represent the index of sample , sequence will be list of word indexes  of first sample(comment)\n",
        "  #every row of result will contains only 1s and 0s \n",
        "  #1 at index found in sequence and 0 elsewhere\n",
        "\n",
        "    results[i, sequence] = 1.\n",
        "  return results\n",
        "\n",
        "\n",
        "\n",
        "\n"
      ],
      "metadata": {
        "id": "PflP_4SIullI"
      },
      "execution_count": 6,
      "outputs": []
    },
    {
      "cell_type": "code",
      "source": [
        "x_train = vectorize_sequences(train_data)\n",
        "x_test = vectorize_sequences(test_data)"
      ],
      "metadata": {
        "id": "lU0iHTYOXmsM"
      },
      "execution_count": 7,
      "outputs": []
    },
    {
      "cell_type": "code",
      "source": [
        "x_train.shape"
      ],
      "metadata": {
        "colab": {
          "base_uri": "https://localhost:8080/"
        },
        "id": "bEqoNOOmHJDy",
        "outputId": "b40bcc5a-85da-43e1-cdc7-14ed795755b3"
      },
      "execution_count": 8,
      "outputs": [
        {
          "output_type": "execute_result",
          "data": {
            "text/plain": [
              "(25000, 10000)"
            ]
          },
          "metadata": {},
          "execution_count": 8
        }
      ]
    },
    {
      "cell_type": "code",
      "source": [
        "#just convert type to float32 instead of float64\n",
        "y_train = np.asarray(train_labels).astype('float32')\n",
        "y_test = np.asarray(test_labels).astype('float32')\n",
        "\n"
      ],
      "metadata": {
        "id": "Sk_OWDZoveW0"
      },
      "execution_count": 9,
      "outputs": []
    },
    {
      "cell_type": "code",
      "source": [
        "#now we will construct the model \n",
        "#since the input and output just zeros and ones all we need is Dense hidden layers\n",
        "model = models.Sequential()\n",
        "model.add(layers.Dense(16,activation = \"relu\",input_shape =(10000,)))\n",
        "model.add(layers.Dense(16,activation= \"relu\"))\n",
        "model.add(layers.Dense(1,activation = \"sigmoid\"))\n",
        "\n"
      ],
      "metadata": {
        "id": "P0BmchcqvKe3"
      },
      "execution_count": 10,
      "outputs": []
    },
    {
      "cell_type": "code",
      "source": [
        "#binary_crossentropy loss is best choice for binary classification\n",
        "\"\"\" Crossentropy is a quantity from the field of Information Theory that \n",
        "measures the distance between probability distributions or, in this\n",
        "case, between the ground-truth distribution and your predictions. \"\"\"\n",
        "#model.compile(optimizer=\"rmsprop\",loss=\"Crossentropy\",metrics =[\"accuracy\"])\n",
        "\n",
        "#another code do the same thing\n",
        "#this provide more control on optimizer and learning rate\n",
        "model.compile(optimizer=optimizers.Adam(lr=0.001),loss='binary_crossentropy', metrics=['accuracy'])\n"
      ],
      "metadata": {
        "colab": {
          "base_uri": "https://localhost:8080/"
        },
        "id": "M3ey-owUvNLv",
        "outputId": "11eb9275-cb6a-4a2b-db46-6b339c0f0ad6"
      },
      "execution_count": 11,
      "outputs": [
        {
          "output_type": "stream",
          "name": "stderr",
          "text": [
            "/usr/local/lib/python3.7/dist-packages/keras/optimizer_v2/adam.py:105: UserWarning: The `lr` argument is deprecated, use `learning_rate` instead.\n",
            "  super(Adam, self).__init__(name, **kwargs)\n"
          ]
        }
      ]
    },
    {
      "cell_type": "code",
      "source": [
        "x_val = x_train[:5000]\n",
        "partial_x_train = x_train[5000:]\n",
        "partial_y_train = y_train[5000:]\n",
        "y_val = y_train[:5000]\n"
      ],
      "metadata": {
        "id": "I3FneQEQhpFe"
      },
      "execution_count": 12,
      "outputs": []
    },
    {
      "cell_type": "code",
      "source": [
        "history = model.fit(partial_x_train,partial_y_train,epochs=4,batch_size=256, validation_data=(x_val, y_val))"
      ],
      "metadata": {
        "colab": {
          "base_uri": "https://localhost:8080/"
        },
        "id": "4chZ7MoeirbL",
        "outputId": "bd124daa-ae5d-4e96-90b8-3d42514c7b0d"
      },
      "execution_count": 13,
      "outputs": [
        {
          "output_type": "stream",
          "name": "stdout",
          "text": [
            "Epoch 1/4\n",
            "79/79 [==============================] - 3s 23ms/step - loss: 0.4552 - accuracy: 0.8153 - val_loss: 0.2962 - val_accuracy: 0.8832\n",
            "Epoch 2/4\n",
            "79/79 [==============================] - 1s 17ms/step - loss: 0.2221 - accuracy: 0.9204 - val_loss: 0.2735 - val_accuracy: 0.8910\n",
            "Epoch 3/4\n",
            "79/79 [==============================] - 1s 17ms/step - loss: 0.1567 - accuracy: 0.9460 - val_loss: 0.2924 - val_accuracy: 0.8898\n",
            "Epoch 4/4\n",
            "79/79 [==============================] - 1s 17ms/step - loss: 0.1188 - accuracy: 0.9614 - val_loss: 0.3183 - val_accuracy: 0.8832\n"
          ]
        }
      ]
    },
    {
      "cell_type": "code",
      "source": [
        "import matplotlib.pyplot as plt\n",
        "history_dict = history.history #return history dictionary which consist of 4 keys (['loss', 'accuracy', 'val_loss', 'val_accuracy']\n",
        "loss_values = history_dict['loss']\n",
        "val_loss_values = history_dict['val_loss']\n",
        "epochs = range(1, len(history_dict[\"accuracy\"]) + 1)\n",
        "plt.plot(epochs, loss_values, 'bo', label='Training loss')\n",
        "plt.plot(epochs, val_loss_values, 'b', label='Validation loss')\n",
        "plt.title('Training and validation loss')\n",
        "plt.xlabel('Epochs')\n",
        "plt.ylabel('Loss')\n",
        "plt.legend()\n",
        "plt.show()"
      ],
      "metadata": {
        "colab": {
          "base_uri": "https://localhost:8080/",
          "height": 295
        },
        "id": "3H9xy1FbireU",
        "outputId": "c0cf7442-a592-45f3-a813-b51eae2c3617"
      },
      "execution_count": 14,
      "outputs": [
        {
          "output_type": "display_data",
          "data": {
            "text/plain": [
              "<Figure size 432x288 with 1 Axes>"
            ],
            "image/png": "[encoded data removed]"
          },
          "metadata": {
            "needs_background": "light"
          }
        }
      ]
    },
    {
      "cell_type": "code",
      "source": [
        "plt.clf()# to clear current figure if found\n",
        "acc = history_dict[\"accuracy\"]\n",
        "val_acc  = history_dict[\"val_accuracy\"]\n",
        "acc_values = history_dict['accuracy']\n",
        "val_acc_values = history_dict['val_accuracy']\n",
        "plt.plot(epochs, acc, 'bo', label='Training acc')\n",
        "plt.plot(epochs, val_acc, 'b', label='Validation acc')\n",
        "plt.title('Training and validation accuracy')\n",
        "plt.xlabel('Epochs')\n",
        "plt.ylabel('accuracy')\n",
        "plt.legend()\n",
        "plt.show()"
      ],
      "metadata": {
        "colab": {
          "base_uri": "https://localhost:8080/",
          "height": 295
        },
        "id": "tdkFtDi7ku-T",
        "outputId": "6fd6aacf-a103-4980-d0ff-7f2dff2f7cbd"
      },
      "execution_count": 15,
      "outputs": [
        {
          "output_type": "display_data",
          "data": {
            "text/plain": [
              "<Figure size 432x288 with 1 Axes>"
            ],
            "image/png": "[encoded data removed]"
          },
          "metadata": {
            "needs_background": "light"
          }
        }
      ]
    },
    {
      "cell_type": "code",
      "source": [
        "results = model.evaluate(x_test, y_test) #to evaluate model performance in test data it returns loss and accuracy [metrics[\"accuracy\"]]"
      ],
      "metadata": {
        "colab": {
          "base_uri": "https://localhost:8080/"
        },
        "id": "QnzSIMPDlUVu",
        "outputId": "f392a179-8914-4604-e577-244e627d01cc"
      },
      "execution_count": 16,
      "outputs": [
        {
          "output_type": "stream",
          "name": "stdout",
          "text": [
            "782/782 [==============================] - 2s 2ms/step - loss: 0.3478 - accuracy: 0.8724\n"
          ]
        }
      ]
    },
    {
      "cell_type": "code",
      "source": [
        "results"
      ],
      "metadata": {
        "colab": {
          "base_uri": "https://localhost:8080/"
        },
        "id": "6LSMXyBXlVBa",
        "outputId": "4fd22c00-e8c3-4a7a-943b-df4653e54aa2"
      },
      "execution_count": 17,
      "outputs": [
        {
          "output_type": "execute_result",
          "data": {
            "text/plain": [
              "[0.3477935194969177, 0.8723599910736084]"
            ]
          },
          "metadata": {},
          "execution_count": 17
        }
      ]
    },
    {
      "cell_type": "code",
      "source": [
        "#to use model for predicting new data\n",
        "y_pred = model.predict(x_test)\n"
      ],
      "metadata": {
        "id": "tnB4_aSPr6N7"
      },
      "execution_count": 30,
      "outputs": []
    },
    {
      "cell_type": "code",
      "source": [
        "def zero_one(x):\n",
        "  if x>0.5:\n",
        "    return 1\n",
        "  else:\n",
        "    return 0\n"
      ],
      "metadata": {
        "id": "QUKvd_blhrvY"
      },
      "execution_count": 31,
      "outputs": []
    },
    {
      "cell_type": "code",
      "source": [
        "y_pred = np.array(list(map(zero_one , y_pred))) # to covert output to zero or one"
      ],
      "metadata": {
        "id": "aEDiri-thMdU"
      },
      "execution_count": 35,
      "outputs": []
    }
  ]
}