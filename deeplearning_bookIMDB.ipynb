{
  "nbformat": 4,
  "nbformat_minor": 0,
  "metadata": {
    "colab": {
      "provenance": [],
      "authorship_tag": "ABX9TyMoMGIQaQiJ9c4ePGillEFF",
      "include_colab_link": true
    },
    "kernelspec": {
      "name": "python3",
      "display_name": "Python 3"
    },
    "language_info": {
      "name": "python"
    }
  },
  "cells": [
    {
      "cell_type": "markdown",
      "metadata": {
        "id": "view-in-github",
        "colab_type": "text"
      },
      "source": [
        "<a href=\"https://colab.research.google.com/github/Khaled-Mohammed-Abdelgaber/deep-learning-projects-/blob/main/deeplearning_bookIMDB.ipynb\" target=\"_parent\"><img src=\"https://colab.research.google.com/assets/colab-badge.svg\" alt=\"Open In Colab\"/></a>"
      ]
    },
    {
      "cell_type": "code",
      "source": [
        "from keras.datasets import imdb\n",
        "from keras import layers , models\n",
        "from tensorflow.keras import optimizers"
      ],
      "metadata": {
        "id": "l8zksB9M__Bc"
      },
      "execution_count": 31,
      "outputs": []
    },
    {
      "cell_type": "code",
      "source": [
        "(train_data,train_labels) , (test_data,test_labels) = imdb.load_data(num_words = 10000)\n",
        "train_data[0]"
      ],
      "metadata": {
        "id": "pJLD8eyTXmkU"
      },
      "execution_count": null,
      "outputs": []
    },
    {
      "cell_type": "code",
      "source": [
        "word_index = imdb.get_word_index()"
      ],
      "metadata": {
        "id": "wRfxZS5xWzSZ"
      },
      "execution_count": 36,
      "outputs": []
    },
    {
      "cell_type": "code",
      "source": [
        "#imdb.get_word_index() The word index dictionary. Keys are word strings, values are their index.\n",
        "word_index = imdb.get_word_index() #word_index is a dictionary\n",
        "\n",
        "#word_index.items() ==> returns a list each element is tuple first element is key and second element is value\n",
        "#list comperhensive to reverse the places [indexes] of tuple elements(key and value)\n",
        "#then convert it to dictionary\n",
        "#reverse_word_index is a dictionary exactly like word_index but key and value are reversed\n",
        "reverse_word_index = dict([(value, key) for (key, value) in word_index.items()]) \n",
        "\n",
        "#.get function used with dictionary and take key as a first element and return the value specified with this key \n",
        "#.get take optional parameter in our case is \"?\" which is returned if key is not found in dictionary keys\n",
        "#train_data[0] is a list of numbers that are just indexes of words that represent comment of first sample\n",
        "#decoded_review is just the comment of first sample in string form\n",
        "#train_data[0] is just the comment of first sample in term of indexes of words in that comment\n",
        "decoded_review = ' '.join([reverse_word_index.get(i - 3, '?') for i in train_data[0]])"
      ],
      "metadata": {
        "id": "JuUbwBvgXmnP"
      },
      "execution_count": 37,
      "outputs": []
    },
    {
      "cell_type": "code",
      "source": [
        "print(\"train_data shape is \",train_data.shape)\n",
        "print(\"test_data shape is \",test_data.shape)\n",
        "print(\"train_labels shape is \",train_labels.shape)\n",
        "print(\"test shape is \",test_labels.shape)"
      ],
      "metadata": {
        "colab": {
          "base_uri": "https://localhost:8080/"
        },
        "id": "n3EWJF_xvq1s",
        "outputId": "b57dcf2b-5c15-4f9e-956f-d4be03477ec2"
      },
      "execution_count": 38,
      "outputs": [
        {
          "output_type": "stream",
          "name": "stdout",
          "text": [
            "train_data shape is  (25000,)\n",
            "test_data shape is  (25000,)\n",
            "train_labels shape is  (25000,)\n",
            "test shape is  (25000,)\n"
          ]
        }
      ]
    },
    {
      "cell_type": "code",
      "source": [
        "#up to now the train data and test data are in form of list of integers\n",
        "#neural network can not deal with lists\n",
        "#we want to convert it to tensors \n",
        "#this can be done by two way first by\n",
        "#[1]-pading lists to be in form of list tensor shape will be (num_samples,word_indexes) \n",
        "#note that train_data[i] not fixed length it depend on the index so we need to pade small samples to biger on \n",
        "#[2]-by hot encoding of all samples to a fixed length (10000)[that equal to the number of words we have chosen in cell 2 first line]\n",
        "#this will return tensor dimension [num_samples,10000]\n",
        "#this can be done by following function \n",
        "\n",
        "import numpy as np\n",
        "def vectorize_sequences(sequences, dimension=10000):\n",
        "  \"\"\"\n",
        "  this functoin take two parameters \n",
        "  first one is sequences such as train_data or test_data\n",
        "  second one is dimention we need to add \n",
        "  returns a results its dimention is [len(sequences),dimention]\n",
        "  \"\"\"\n",
        "  results = np.zeros((len(sequences), dimension))\n",
        "  for i, sequence in enumerate(sequences): # i represent the index of sample , sequence will be list of word indexes  of first sample(comment)\n",
        "  #every row of result will contains only 1s and 0s \n",
        "  #1 at index found in sequence and 0 elsewhere\n",
        "\n",
        "    results[i, sequence] = 1.\n",
        "  return results\n",
        "\n",
        "\n",
        "\n",
        "\n"
      ],
      "metadata": {
        "id": "PflP_4SIullI"
      },
      "execution_count": 40,
      "outputs": []
    },
    {
      "cell_type": "code",
      "source": [
        "x_train = vectorize_sequences(train_data)\n",
        "x_test = vectorize_sequences(test_data)"
      ],
      "metadata": {
        "id": "lU0iHTYOXmsM"
      },
      "execution_count": 41,
      "outputs": []
    },
    {
      "cell_type": "code",
      "source": [
        "x_train.shape"
      ],
      "metadata": {
        "colab": {
          "base_uri": "https://localhost:8080/"
        },
        "id": "bEqoNOOmHJDy",
        "outputId": "eed391f3-085c-4cb5-8c8e-6445cf89a1f1"
      },
      "execution_count": 42,
      "outputs": [
        {
          "output_type": "execute_result",
          "data": {
            "text/plain": [
              "(25000, 10000)"
            ]
          },
          "metadata": {},
          "execution_count": 42
        }
      ]
    },
    {
      "cell_type": "code",
      "source": [
        "#just convert type to float32 instead of float64\n",
        "y_train = np.asarray(train_labels).astype('float32')\n",
        "y_test = np.asarray(test_labels).astype('float32')\n",
        "\n"
      ],
      "metadata": {
        "id": "Sk_OWDZoveW0"
      },
      "execution_count": 43,
      "outputs": []
    },
    {
      "cell_type": "code",
      "source": [
        "#now we will construct the model \n",
        "#since the input and output just zeros and ones all we need is Dense hidden layers\n",
        "model = models.Sequential()\n",
        "model.add(layers.Dense(16,activation = \"relu\",input_shape =(10000,)))\n",
        "model.add(layers.Dense(16,activation= \"relu\"))\n",
        "model.add(layers.Dense(1,activation = \"sigmoid\"))\n",
        "\n"
      ],
      "metadata": {
        "id": "P0BmchcqvKe3"
      },
      "execution_count": 56,
      "outputs": []
    },
    {
      "cell_type": "code",
      "source": [
        "#binary_crossentropy loss is best choice for binary classification\n",
        "\"\"\" Crossentropy is a quantity from the field of Information Theory that \n",
        "measures the distance between probability distributions or, in this\n",
        "case, between the ground-truth distribution and your predictions. \"\"\"\n",
        "#model.compile(optimizer=\"rmsprop\",loss=\"Crossentropy\",metrics =[\"accuracy\"])\n",
        "\n",
        "#another code do the same thing\n",
        "#this provide more control on optimizer and learning rate\n",
        "model.compile(optimizer=optimizers.Adam(lr=0.001),loss='binary_crossentropy', metrics=['accuracy'])\n"
      ],
      "metadata": {
        "colab": {
          "base_uri": "https://localhost:8080/"
        },
        "id": "M3ey-owUvNLv",
        "outputId": "136bfec2-b065-49f1-8d83-627a0784fb60"
      },
      "execution_count": 57,
      "outputs": [
        {
          "output_type": "stream",
          "name": "stderr",
          "text": [
            "/usr/local/lib/python3.7/dist-packages/keras/optimizer_v2/adam.py:105: UserWarning: The `lr` argument is deprecated, use `learning_rate` instead.\n",
            "  super(Adam, self).__init__(name, **kwargs)\n"
          ]
        }
      ]
    },
    {
      "cell_type": "code",
      "source": [
        "x_val = x_train[:5000]\n",
        "partial_x_train = x_train[5000:]\n",
        "partial_y_train = y_train[5000:]\n",
        "y_val = y_train[:5000]\n"
      ],
      "metadata": {
        "id": "I3FneQEQhpFe"
      },
      "execution_count": 58,
      "outputs": []
    },
    {
      "cell_type": "code",
      "source": [
        "history = model.fit(partial_x_train,partial_y_train,epochs=4,batch_size=256, validation_data=(x_val, y_val))"
      ],
      "metadata": {
        "colab": {
          "base_uri": "https://localhost:8080/"
        },
        "id": "4chZ7MoeirbL",
        "outputId": "548902d3-469b-4873-c5c0-a1d321be2fe8"
      },
      "execution_count": 69,
      "outputs": [
        {
          "output_type": "stream",
          "name": "stdout",
          "text": [
            "Epoch 1/4\n",
            "79/79 [==============================] - 3s 39ms/step - loss: 0.0755 - accuracy: 0.9785 - val_loss: 0.3734 - val_accuracy: 0.8770\n",
            "Epoch 2/4\n",
            "79/79 [==============================] - 2s 20ms/step - loss: 0.0493 - accuracy: 0.9880 - val_loss: 0.4240 - val_accuracy: 0.8778\n",
            "Epoch 3/4\n",
            "79/79 [==============================] - 1s 18ms/step - loss: 0.0289 - accuracy: 0.9956 - val_loss: 0.4742 - val_accuracy: 0.8738\n",
            "Epoch 4/4\n",
            "79/79 [==============================] - 1s 17ms/step - loss: 0.0179 - accuracy: 0.9984 - val_loss: 0.5318 - val_accuracy: 0.8730\n"
          ]
        }
      ]
    },
    {
      "cell_type": "code",
      "source": [
        "import matplotlib.pyplot as plt\n",
        "history_dict = history.history #return history dictionary which consist of 4 keys (['loss', 'accuracy', 'val_loss', 'val_accuracy']\n",
        "loss_values = history_dict['loss']\n",
        "val_loss_values = history_dict['val_loss']\n",
        "epochs = range(1, len(history_dict[\"accuracy\"]) + 1)\n",
        "plt.plot(epochs, loss_values, 'bo', label='Training loss')\n",
        "plt.plot(epochs, val_loss_values, 'b', label='Validation loss')\n",
        "plt.title('Training and validation loss')\n",
        "plt.xlabel('Epochs')\n",
        "plt.ylabel('Loss')\n",
        "plt.legend()\n",
        "plt.show()"
      ],
      "metadata": {
        "colab": {
          "base_uri": "https://localhost:8080/",
          "height": 295
        },
        "id": "3H9xy1FbireU",
        "outputId": "bb269d94-a5d0-4996-c71c-e4f194f3c64b"
      },
      "execution_count": 73,
      "outputs": [
        {
          "output_type": "display_data",
          "data": {
            "text/plain": [
              "<Figure size 432x288 with 1 Axes>"
            ],
            "image/png": "[encoded data removed]"
          },
          "metadata": {
            "needs_background": "light"
          }
        }
      ]
    },
    {
      "cell_type": "code",
      "source": [
        "plt.clf()# to clear current figure if found\n",
        "acc = history_dict[\"accuracy\"]\n",
        "val_acc  = history_dict[\"val_accuracy\"]\n",
        "acc_values = history_dict['accuracy']\n",
        "val_acc_values = history_dict['val_accuracy']\n",
        "plt.plot(epochs, acc, 'bo', label='Training acc')\n",
        "plt.plot(epochs, val_acc, 'b', label='Validation acc')\n",
        "plt.title('Training and validation accuracy')\n",
        "plt.xlabel('Epochs')\n",
        "plt.ylabel('accuracy')\n",
        "plt.legend()\n",
        "plt.show()"
      ],
      "metadata": {
        "colab": {
          "base_uri": "https://localhost:8080/",
          "height": 295
        },
        "id": "tdkFtDi7ku-T",
        "outputId": "9dd668c9-08c9-4e66-8c34-c227a8d5c36a"
      },
      "execution_count": 74,
      "outputs": [
        {
          "output_type": "display_data",
          "data": {
            "text/plain": [
              "<Figure size 432x288 with 1 Axes>"
            ],
            "image/png": "[encoded data removed]"
          },
          "metadata": {
            "needs_background": "light"
          }
        }
      ]
    },
    {
      "cell_type": "code",
      "source": [
        "results = model.evaluate(x_test, y_test) #to evaluate model performance in test data it returns loss and accuracy [metrics[\"accuracy\"]]"
      ],
      "metadata": {
        "colab": {
          "base_uri": "https://localhost:8080/"
        },
        "id": "QnzSIMPDlUVu",
        "outputId": "c4f4ff34-507f-485f-d3d4-5fc8a9b4216f"
      },
      "execution_count": 75,
      "outputs": [
        {
          "output_type": "stream",
          "name": "stdout",
          "text": [
            "782/782 [==============================] - 2s 2ms/step - loss: 0.5684 - accuracy: 0.8600\n"
          ]
        }
      ]
    },
    {
      "cell_type": "code",
      "source": [
        "results"
      ],
      "metadata": {
        "colab": {
          "base_uri": "https://localhost:8080/"
        },
        "id": "6LSMXyBXlVBa",
        "outputId": "864ffb34-297b-4dca-875f-3ba6befd8f78"
      },
      "execution_count": 76,
      "outputs": [
        {
          "output_type": "execute_result",
          "data": {
            "text/plain": [
              "[0.568392276763916, 0.8599600195884705]"
            ]
          },
          "metadata": {},
          "execution_count": 76
        }
      ]
    },
    {
      "cell_type": "code",
      "source": [
        "#to use model for predicting new data\n",
        "y_pred = model.predict(x_test)\n",
        "y_pred"
      ],
      "metadata": {
        "colab": {
          "base_uri": "https://localhost:8080/"
        },
        "id": "tnB4_aSPr6N7",
        "outputId": "a17063ad-79f9-4f90-f622-6a720c465937"
      },
      "execution_count": 77,
      "outputs": [
        {
          "output_type": "execute_result",
          "data": {
            "text/plain": [
              "array([[0.01491663],\n",
              "       [1.        ],\n",
              "       [0.2938857 ],\n",
              "       ...,\n",
              "       [0.02517456],\n",
              "       [0.00617856],\n",
              "       [0.9665668 ]], dtype=float32)"
            ]
          },
          "metadata": {},
          "execution_count": 77
        }
      ]
    }
  ]
}