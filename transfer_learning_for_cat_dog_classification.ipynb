{
  "nbformat": 4,
  "nbformat_minor": 0,
  "metadata": {
    "colab": {
      "provenance": [],
      "authorship_tag": "ABX9TyO10DxGa3cF3Rra9f25coFw",
      "include_colab_link": true
    },
    "kernelspec": {
      "name": "python3",
      "display_name": "Python 3"
    },
    "language_info": {
      "name": "python"
    },
    "accelerator": "GPU",
    "gpuClass": "standard"
  },
  "cells": [
    {
      "cell_type": "markdown",
      "metadata": {
        "id": "view-in-github",
        "colab_type": "text"
      },
      "source": [
        "<a href=\"https://colab.research.google.com/github/Khaled-Mohammed-Abdelgaber/deep-learning-projects-/blob/main/transfer_learning_for_cat_dog_classification.ipynb\" target=\"_parent\"><img src=\"https://colab.research.google.com/assets/colab-badge.svg\" alt=\"Open In Colab\"/></a>"
      ]
    },
    {
      "cell_type": "code",
      "source": [
        "from google.colab import drive\n",
        "drive.mount('/content/drive')"
      ],
      "metadata": {
        "colab": {
          "base_uri": "https://localhost:8080/"
        },
        "id": "B8Csmps8lvF3",
        "outputId": "9beb0288-2867-4e80-bf6c-3be8aa43bacc"
      },
      "execution_count": 1,
      "outputs": [
        {
          "output_type": "stream",
          "name": "stdout",
          "text": [
            "Mounted at /content/drive\n"
          ]
        }
      ]
    },
    {
      "cell_type": "code",
      "source": [
        "import os\n",
        "import shutil"
      ],
      "metadata": {
        "id": "FeMnC0CA3Slg"
      },
      "execution_count": 7,
      "outputs": []
    },
    {
      "cell_type": "markdown",
      "source": [
        "# Creating required directory"
      ],
      "metadata": {
        "id": "xoZdCIn_Nd9v"
      }
    },
    {
      "cell_type": "code",
      "source": [
        "original_dataset_dir = '/content/drive/MyDrive/Colab Notebooks/train' # where all datasets will be downloaded\n",
        "base_dir = '/content/cats_and_dogs_small'     # where small datasets will be stored\n",
        "os.mkdir(base_dir)\n",
        "\n",
        "#where train datasets(part of small datasets will be stored)\n",
        "train_dir = os.path.join(base_dir, 'train')\n",
        "print(f\"Train directory is {train_dir}\")\n",
        "os.mkdir(train_dir)\n",
        "\n",
        "#where validation datasets will be stored\n",
        "validation_dir = os.path.join(base_dir,'validation')\n",
        "os.mkdir(validation_dir)\n",
        "\n",
        "#where test datasets will be stored\n",
        "test_dir = os.path.join(base_dir,'test')\n",
        "os.mkdir(test_dir)\n",
        "\n",
        "#where cats train datasets will be stored\n",
        "train_cats_dir = os.path.join(train_dir,'cats')\n",
        "os.mkdir(train_cats_dir)\n",
        "\n",
        "#where dogs train datasets will be stored\n",
        "train_dogs_dir = os.path.join(train_dir,'dogs')\n",
        "os.mkdir(train_dogs_dir)\n",
        "\n",
        "#where cats validation datasets will be stored\n",
        "validation_cats_dir = os.path.join(validation_dir, 'cats')\n",
        "os.mkdir(validation_cats_dir)\n",
        "\n",
        "#where dogs validation datasets will be stored\n",
        "validation_dogs_dir = os.path.join(validation_dir, 'dogs')\n",
        "os.mkdir(validation_dogs_dir)\n",
        "\n",
        "#where cats test datasets will be stored\n",
        "test_cats_dir = os.path.join(test_dir, 'cats')\n",
        "os.mkdir(test_cats_dir)\n",
        "\n",
        "#where dogs test datasets will be stored\n",
        "test_dogs_dir = os.path.join(test_dir, 'dogs')\n",
        "os.mkdir(test_dogs_dir)\n"
      ],
      "metadata": {
        "colab": {
          "base_uri": "https://localhost:8080/"
        },
        "id": "s7NBElF3zzW3",
        "outputId": "23071129-4dac-4900-bf84-ed0b2bc4b4fd"
      },
      "execution_count": 5,
      "outputs": [
        {
          "output_type": "stream",
          "name": "stdout",
          "text": [
            "Train directory is /content/cats_and_dogs_small/train\n"
          ]
        }
      ]
    },
    {
      "cell_type": "markdown",
      "source": [
        "# Moving datasets to required paths"
      ],
      "metadata": {
        "id": "KV2bWaC_NlJA"
      }
    },
    {
      "cell_type": "code",
      "source": [
        "fnames = ['dog.{}.jpg'.format(i)for i in range(1000)]\n",
        "for fname in fnames:\n",
        "  src = os.path.join(original_dataset_dir,fname)\n",
        "  dst = os.path.join(train_dogs_dir,fname)\n",
        "  shutil.copyfile(src , dst)\n",
        "\n",
        "\n",
        "fnames = ['dog.{}.jpg'.format(i)for i in range(1000,1500)]\n",
        "for fname in fnames:\n",
        "  src = os.path.join(original_dataset_dir,fname)\n",
        "  dst = os.path.join(validation_dogs_dir,fname)\n",
        "  shutil.copyfile(src , dst)\n",
        "\n",
        "\n",
        "fnames = ['dog.{}.jpg'.format(i)for i in range(1500,2000)]\n",
        "for fname in fnames:\n",
        "  src = os.path.join(original_dataset_dir,fname)\n",
        "  dst = os.path.join(test_dogs_dir,fname)\n",
        "  shutil.copyfile(src , dst)\n",
        "\n"
      ],
      "metadata": {
        "id": "Mx0jFozn0Fku"
      },
      "execution_count": 8,
      "outputs": []
    },
    {
      "cell_type": "code",
      "source": [
        "fnames = ['cat.{}.jpg'.format(i)for i in range(1000)]\n",
        "for fname in fnames:\n",
        "  src = os.path.join(original_dataset_dir,fname)\n",
        "  dst = os.path.join(train_cats_dir,fname)\n",
        "  shutil.copyfile(src , dst)\n",
        "\n",
        "fnames = ['cat.{}.jpg'.format(i)for i in range(1000,1500)]\n",
        "for fname in fnames:\n",
        "  src = os.path.join(original_dataset_dir,fname)\n",
        "  dst = os.path.join(validation_cats_dir,fname)\n",
        "  shutil.copyfile(src , dst)\n",
        "\n",
        "fnames = ['cat.{}.jpg'.format(i)for i in range(1500,2000)]\n",
        "for fname in fnames:\n",
        "  src = os.path.join(original_dataset_dir,fname)\n",
        "  dst = os.path.join(test_cats_dir,fname)\n",
        "  shutil.copyfile(src , dst)"
      ],
      "metadata": {
        "id": "5BS46wuz0GeH"
      },
      "execution_count": 9,
      "outputs": []
    },
    {
      "cell_type": "markdown",
      "source": [
        "#Loading VGG16 network"
      ],
      "metadata": {
        "id": "DTo2Tv3zNsov"
      }
    },
    {
      "cell_type": "code",
      "execution_count": 10,
      "metadata": {
        "colab": {
          "base_uri": "https://localhost:8080/"
        },
        "id": "zy_M8dbhfCJd",
        "outputId": "03a47632-3e29-4a6e-9479-e3d9b9c05dff"
      },
      "outputs": [
        {
          "output_type": "stream",
          "name": "stdout",
          "text": [
            "Downloading data from https://storage.googleapis.com/tensorflow/keras-applications/vgg16/vgg16_weights_tf_dim_ordering_tf_kernels_notop.h5\n",
            "58892288/58889256 [==============================] - 0s 0us/step\n",
            "58900480/58889256 [==============================] - 0s 0us/step\n",
            "Model: \"vgg16\"\n",
            "_________________________________________________________________\n",
            " Layer (type)                Output Shape              Param #   \n",
            "=================================================================\n",
            " input_1 (InputLayer)        [(None, 150, 150, 3)]     0         \n",
            "                                                                 \n",
            " block1_conv1 (Conv2D)       (None, 150, 150, 64)      1792      \n",
            "                                                                 \n",
            " block1_conv2 (Conv2D)       (None, 150, 150, 64)      36928     \n",
            "                                                                 \n",
            " block1_pool (MaxPooling2D)  (None, 75, 75, 64)        0         \n",
            "                                                                 \n",
            " block2_conv1 (Conv2D)       (None, 75, 75, 128)       73856     \n",
            "                                                                 \n",
            " block2_conv2 (Conv2D)       (None, 75, 75, 128)       147584    \n",
            "                                                                 \n",
            " block2_pool (MaxPooling2D)  (None, 37, 37, 128)       0         \n",
            "                                                                 \n",
            " block3_conv1 (Conv2D)       (None, 37, 37, 256)       295168    \n",
            "                                                                 \n",
            " block3_conv2 (Conv2D)       (None, 37, 37, 256)       590080    \n",
            "                                                                 \n",
            " block3_conv3 (Conv2D)       (None, 37, 37, 256)       590080    \n",
            "                                                                 \n",
            " block3_pool (MaxPooling2D)  (None, 18, 18, 256)       0         \n",
            "                                                                 \n",
            " block4_conv1 (Conv2D)       (None, 18, 18, 512)       1180160   \n",
            "                                                                 \n",
            " block4_conv2 (Conv2D)       (None, 18, 18, 512)       2359808   \n",
            "                                                                 \n",
            " block4_conv3 (Conv2D)       (None, 18, 18, 512)       2359808   \n",
            "                                                                 \n",
            " block4_pool (MaxPooling2D)  (None, 9, 9, 512)         0         \n",
            "                                                                 \n",
            " block5_conv1 (Conv2D)       (None, 9, 9, 512)         2359808   \n",
            "                                                                 \n",
            " block5_conv2 (Conv2D)       (None, 9, 9, 512)         2359808   \n",
            "                                                                 \n",
            " block5_conv3 (Conv2D)       (None, 9, 9, 512)         2359808   \n",
            "                                                                 \n",
            " block5_pool (MaxPooling2D)  (None, 4, 4, 512)         0         \n",
            "                                                                 \n",
            "=================================================================\n",
            "Total params: 14,714,688\n",
            "Trainable params: 14,714,688\n",
            "Non-trainable params: 0\n",
            "_________________________________________________________________\n"
          ]
        }
      ],
      "source": [
        "from keras.applications.vgg16 import VGG16\n",
        "conv_base = VGG16(weights = 'imagenet',\n",
        "                  include_top = False,\n",
        "                  input_shape = (150,150,3))\n",
        "\n",
        "conv_base.summary()"
      ]
    },
    {
      "cell_type": "markdown",
      "source": [
        "# Freezing up to block 4"
      ],
      "metadata": {
        "id": "5mP9vYUBN59e"
      }
    },
    {
      "cell_type": "code",
      "source": [
        "conv_base.trainable = True\n",
        "set_trainable = False\n",
        "for layer in conv_base.layers:\n",
        "  if layer.name == 'block5_conv1':\n",
        "    set_trainable = True\n",
        "  if set_trainable:\n",
        "    layer.trainable = True\n",
        "  else:\n",
        "    layer.trainable = False"
      ],
      "metadata": {
        "id": "sIUYObynzVHc"
      },
      "execution_count": 14,
      "outputs": []
    },
    {
      "cell_type": "markdown",
      "source": [
        "# Stacking VGG16 with the classifier"
      ],
      "metadata": {
        "id": "DSmQI2lMODmH"
      }
    },
    {
      "cell_type": "code",
      "source": [
        "from keras import models\n",
        "from keras import layers\n",
        "from tensorflow.keras import optimizers\n",
        "model = models.Sequential()\n",
        "model.add(conv_base)\n",
        "model.add(layers.Flatten())\n",
        "model.add(layers.Dense(256, activation='relu'))\n",
        "model.add(layers.Dense(1, activation='sigmoid'))\n",
        "model.compile(loss='binary_crossentropy',\n",
        "            optimizer=optimizers.RMSprop(lr=1e-5),\n",
        "            metrics=['acc'])"
      ],
      "metadata": {
        "id": "cFUk-eGi49UQ"
      },
      "execution_count": 21,
      "outputs": []
    },
    {
      "cell_type": "code",
      "source": [
        "import os\n",
        "import shutil\n",
        "import numpy as np\n",
        "from keras.preprocessing.image import ImageDataGenerator\n",
        "#base_dir = '/content/drive/MyDrive/Colab Notebooks'     # where small datasets will be stored\n",
        "#train_dir = os.path.join(base_dir, 'train')\n",
        "#validation_dir = os.path.join(base_dir, 'validation')\n",
        "#test_dir = os.path.join(base_dir, 'test')"
      ],
      "metadata": {
        "id": "UdK1sNyghAg9"
      },
      "execution_count": 22,
      "outputs": []
    },
    {
      "cell_type": "markdown",
      "source": [
        "# Data Augmentation"
      ],
      "metadata": {
        "id": "u4dOW0r7ONXA"
      }
    },
    {
      "cell_type": "code",
      "source": [
        "datagen = ImageDataGenerator(rescale=1./255)\n",
        "batch_size = 20\n",
        "def extract_features(directory , sample_count):\n",
        "  features = np.zeros(shape = (sample_count , 4,4,512))\n",
        "  labels = np.zeros(shape=(sample_count))\n",
        "  generator = datagen.flow_from_directory(directory,\n",
        "                                            target_size=(150, 150),\n",
        "                                            batch_size=batch_size,\n",
        "                                            class_mode='binary')\n",
        "  i=0\n",
        "  for inputs_batch , labels_batch in generator :\n",
        "    features_batch = conv_base.predict(inputs_batch)\n",
        "    features[i*batch_size : (i+1)*batch_size] = features_batch\n",
        "    labels[i*batch_size : (i+1)*batch_size] = labels_batch\n",
        "    i += 1\n",
        "    if i * batch_size >= sample_count:\n",
        "      break\n",
        "  return features, labels\n",
        "\n",
        "                                            "
      ],
      "metadata": {
        "id": "iJ8Svagmhlo8"
      },
      "execution_count": 23,
      "outputs": []
    },
    {
      "cell_type": "code",
      "source": [
        "from keras.preprocessing.image import ImageDataGenerator\n",
        "from keras import optimizers\n",
        "train_datagen = ImageDataGenerator(\n",
        "rescale=1./255,\n",
        "rotation_range=40,\n",
        "width_shift_range=0.2,\n",
        "height_shift_range=0.2,\n",
        "shear_range=0.2,\n",
        "zoom_range=0.2,\n",
        "horizontal_flip=True,\n",
        "fill_mode='nearest')"
      ],
      "metadata": {
        "id": "4a3kTT0CMeZK"
      },
      "execution_count": 24,
      "outputs": []
    },
    {
      "cell_type": "code",
      "source": [
        "test_datagen = ImageDataGenerator(rescale=1./255)\n",
        "train_generator = train_datagen.flow_from_directory(\n",
        "train_dir,\n",
        "target_size=(150, 150),\n",
        "batch_size=20,\n",
        "class_mode='binary')\n",
        "validation_generator = test_datagen.flow_from_directory(\n",
        "validation_dir,\n",
        "target_size=(150, 150),\n",
        "batch_size=20,\n",
        "class_mode='binary')"
      ],
      "metadata": {
        "colab": {
          "base_uri": "https://localhost:8080/"
        },
        "id": "eofNiYq5M9KH",
        "outputId": "48d8b71c-9b4b-401a-f5f2-b2e4734614a6"
      },
      "execution_count": 25,
      "outputs": [
        {
          "output_type": "stream",
          "name": "stdout",
          "text": [
            "Found 2000 images belonging to 2 classes.\n",
            "Found 1000 images belonging to 2 classes.\n"
          ]
        }
      ]
    },
    {
      "cell_type": "code",
      "source": [
        "from tensorflow.keras import optimizers\n",
        "model.compile(loss='binary_crossentropy',\n",
        "                optimizer=optimizers.RMSprop(lr=2e-5),\n",
        "                metrics=['acc']\n",
        "              )\n",
        "history = model.fit_generator(train_generator,\n",
        "                              steps_per_epoch=100,\n",
        "                              epochs=10,\n",
        "                              validation_data=validation_generator,\n",
        "                              validation_steps=50)"
      ],
      "metadata": {
        "colab": {
          "base_uri": "https://localhost:8080/"
        },
        "id": "sXJ5mv3tmZ_M",
        "outputId": "b439d6d0-57d0-4a8c-87a8-d2e708f62e37"
      },
      "execution_count": 26,
      "outputs": [
        {
          "output_type": "stream",
          "name": "stdout",
          "text": [
            "Epoch 1/10\n"
          ]
        },
        {
          "output_type": "stream",
          "name": "stderr",
          "text": [
            "/usr/local/lib/python3.7/dist-packages/ipykernel_launcher.py:10: UserWarning: `Model.fit_generator` is deprecated and will be removed in a future version. Please use `Model.fit`, which supports generators.\n",
            "  # Remove the CWD from sys.path while we load stuff.\n"
          ]
        },
        {
          "output_type": "stream",
          "name": "stdout",
          "text": [
            "100/100 [==============================] - 21s 199ms/step - loss: 0.2397 - acc: 0.8920 - val_loss: 0.1962 - val_acc: 0.9190\n",
            "Epoch 2/10\n",
            "100/100 [==============================] - 20s 198ms/step - loss: 0.1680 - acc: 0.9325 - val_loss: 0.3066 - val_acc: 0.8910\n",
            "Epoch 3/10\n",
            "100/100 [==============================] - 20s 197ms/step - loss: 0.1492 - acc: 0.9420 - val_loss: 0.1565 - val_acc: 0.9340\n",
            "Epoch 4/10\n",
            "100/100 [==============================] - 20s 197ms/step - loss: 0.1400 - acc: 0.9425 - val_loss: 0.1689 - val_acc: 0.9320\n",
            "Epoch 5/10\n",
            "100/100 [==============================] - 20s 196ms/step - loss: 0.1228 - acc: 0.9475 - val_loss: 0.2023 - val_acc: 0.9270\n",
            "Epoch 6/10\n",
            "100/100 [==============================] - 20s 197ms/step - loss: 0.1187 - acc: 0.9505 - val_loss: 0.3025 - val_acc: 0.9120\n",
            "Epoch 7/10\n",
            "100/100 [==============================] - 20s 197ms/step - loss: 0.1095 - acc: 0.9590 - val_loss: 0.1726 - val_acc: 0.9340\n",
            "Epoch 8/10\n",
            "100/100 [==============================] - 20s 196ms/step - loss: 0.1078 - acc: 0.9595 - val_loss: 0.1638 - val_acc: 0.9390\n",
            "Epoch 9/10\n",
            "100/100 [==============================] - 20s 196ms/step - loss: 0.0783 - acc: 0.9695 - val_loss: 0.2441 - val_acc: 0.9340\n",
            "Epoch 10/10\n",
            "100/100 [==============================] - 20s 197ms/step - loss: 0.0918 - acc: 0.9655 - val_loss: 0.1584 - val_acc: 0.9500\n"
          ]
        }
      ]
    },
    {
      "cell_type": "code",
      "source": [
        "model.summary()"
      ],
      "metadata": {
        "colab": {
          "base_uri": "https://localhost:8080/"
        },
        "id": "EBM6L1vr49Xg",
        "outputId": "9fa2bb36-2945-41e9-ab6f-c854e3322ec1"
      },
      "execution_count": 27,
      "outputs": [
        {
          "output_type": "stream",
          "name": "stdout",
          "text": [
            "Model: \"sequential_2\"\n",
            "_________________________________________________________________\n",
            " Layer (type)                Output Shape              Param #   \n",
            "=================================================================\n",
            " vgg16 (Functional)          (None, 4, 4, 512)         14714688  \n",
            "                                                                 \n",
            " flatten_2 (Flatten)         (None, 8192)              0         \n",
            "                                                                 \n",
            " dense_4 (Dense)             (None, 256)               2097408   \n",
            "                                                                 \n",
            " dense_5 (Dense)             (None, 1)                 257       \n",
            "                                                                 \n",
            "=================================================================\n",
            "Total params: 16,812,353\n",
            "Trainable params: 9,177,089\n",
            "Non-trainable params: 7,635,264\n",
            "_________________________________________________________________\n"
          ]
        }
      ]
    },
    {
      "cell_type": "code",
      "source": [
        "test_generator = test_datagen.flow_from_directory(test_dir,\n",
        "                                                  target_size=(150, 150),\n",
        "                                                  batch_size=20,\n",
        "                                                  class_mode='binary')\n",
        "                                                      \n",
        "test_loss, test_acc = model.evaluate_generator(test_generator, steps=50)\n",
        "print('test acc:', test_acc)"
      ],
      "metadata": {
        "colab": {
          "base_uri": "https://localhost:8080/"
        },
        "id": "m5qxjnDEPLxh",
        "outputId": "3ac7ea80-94fc-43d9-af59-bb6f3a787030"
      },
      "execution_count": 28,
      "outputs": [
        {
          "output_type": "stream",
          "name": "stdout",
          "text": [
            "Found 1000 images belonging to 2 classes.\n"
          ]
        },
        {
          "output_type": "stream",
          "name": "stderr",
          "text": [
            "/usr/local/lib/python3.7/dist-packages/ipykernel_launcher.py:6: UserWarning: `Model.evaluate_generator` is deprecated and will be removed in a future version. Please use `Model.evaluate`, which supports generators.\n",
            "  \n"
          ]
        },
        {
          "output_type": "stream",
          "name": "stdout",
          "text": [
            "test acc: 0.9409999847412109\n"
          ]
        }
      ]
    }
  ]
}